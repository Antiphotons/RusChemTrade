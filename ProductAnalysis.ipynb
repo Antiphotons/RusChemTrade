{
 "cells": [
  {
   "cell_type": "markdown",
   "id": "a42854f4",
   "metadata": {},
   "source": [
    "# Initial phase"
   ]
  },
  {
   "cell_type": "markdown",
   "id": "2e6a8436",
   "metadata": {},
   "source": [
    "## Import libraries"
   ]
  },
  {
   "cell_type": "code",
   "execution_count": 1,
   "id": "b6b14420",
   "metadata": {},
   "outputs": [],
   "source": [
    "import math as m\n",
    "import numpy as np\n",
    "import pandas as pd\n",
    "import matplotlib.pyplot as plt\n",
    "import seaborn as sns\n",
    "import sklearn as sk"
   ]
  },
  {
   "cell_type": "markdown",
   "id": "538191de",
   "metadata": {},
   "source": [
    "## Load dataframe"
   ]
  },
  {
   "cell_type": "code",
   "execution_count": 2,
   "id": "4b2d7245",
   "metadata": {},
   "outputs": [],
   "source": [
    "dir = 'c:/Kotomin/StatWorks/6_Маркетинг/2023_06_analysis/'\n",
    "file = 'ProductData.csv'"
   ]
  },
  {
   "cell_type": "code",
   "execution_count": 4,
   "id": "ce3e56d5",
   "metadata": {},
   "outputs": [],
   "source": [
    "df = pd.read_csv(dir + file, dtype=str, sep=';')"
   ]
  },
  {
   "cell_type": "markdown",
   "id": "80d28994",
   "metadata": {},
   "source": [
    "# Product clusterisation"
   ]
  },
  {
   "cell_type": "markdown",
   "id": "f7b7dbf9",
   "metadata": {},
   "source": [
    "## Product prise distribution"
   ]
  },
  {
   "cell_type": "markdown",
   "id": "62f17487",
   "metadata": {},
   "source": [
    "### Fix uncorrect product code"
   ]
  },
  {
   "cell_type": "code",
   "execution_count": 5,
   "id": "fde3f49e",
   "metadata": {
    "scrolled": true
   },
   "outputs": [
    {
     "data": {
      "text/plain": [
       "array(['2905392500', '2930909508', '1520000000', '3817008000',\n",
       "       '2710193500', '2503001000', '2901290000', '2909498009',\n",
       "       '2933790000', '3823700000', '7403190000', '2909430009',\n",
       "       '2825100000', '2924190009', '2710193100', '2914290000',\n",
       "       '2707509000', '2905320000', '2707999900', '2847000000',\n",
       "       '2907130000', '2930909509', '2907199000', '2712903900',\n",
       "       '2710129001', '2902900000', '2905450009', '2933399900',\n",
       "       '2903230000', '3204130000', '2907290000', '3824999609',\n",
       "       '3902909000', '3914000000', '2917139000', '2922290000',\n",
       "       '2823000000', '2921511900', '2922197000', '2710199800',\n",
       "       '3812209000', '2907151000', '2907220000', '2903998000',\n",
       "       '2917110000', '2921210000', '2827320001', '3206497000',\n",
       "       '2921110000', '2836400000', '2831100000', '3811290000',\n",
       "       '2916310000', '3402130000', '3906909007', '2915705000',\n",
       "       '2921430000', '2836910000', '2931900001', '2931900009',\n",
       "       '2834298000', '2921599000', '3901908000', '2827590000',\n",
       "       '3815909000', '2920907000', '3907300009', '2917330000',\n",
       "       '2827398500', '2924210000', '2826908000', '2921519009',\n",
       "       '2909301000', '2932110000', '2818200000', '3811900000',\n",
       "       '2928009009', '2915390000', '2905450001', '2712909900',\n",
       "       '7318157008', '3901400009', '3403990000', '2916150000',\n",
       "       '3907911000', '4002999000', '4002991000', '3202900000',\n",
       "       '3901300000', '7403110000', '2833298000', '2924190001',\n",
       "       '2930909501', '2909199000', '3907299009', '3806100000',\n",
       "       '3907299001', '2905399500', '2901100009', '2901290000\\xa0',\n",
       "       '2905170000', '2905420000', '2907110000'], dtype=object)"
      ]
     },
     "execution_count": 5,
     "metadata": {},
     "output_type": "execute_result"
    }
   ],
   "source": [
    "ved = df['ved_g33'].unique()\n",
    "ved"
   ]
  },
  {
   "cell_type": "code",
   "execution_count": 6,
   "id": "83f5a9e3",
   "metadata": {},
   "outputs": [],
   "source": [
    "ind = df[df['ved_g33'] == '2901290000\\xa0'].index\n",
    "df.loc[ind,'ved_g33'] = '2901290000'"
   ]
  },
  {
   "cell_type": "code",
   "execution_count": 18,
   "id": "3cf04c3e",
   "metadata": {
    "scrolled": true
   },
   "outputs": [
    {
     "data": {
      "text/plain": [
       "array(['2905392500', '2930909508', '1520000000', '2710193500',\n",
       "       '2503001000', '2901290000', '2909498009', '2933790000',\n",
       "       '3823700000', '7403190000', '2909430009', '2825100000',\n",
       "       '2924190009', '2710193100', '3817008000', '2914290000',\n",
       "       '2707509000', '2905320000', '2707999900', '2847000000',\n",
       "       '2907130000', '2930909509', '2907199000', '2710129001',\n",
       "       '2902900000', '2905450009', '2933399900', '2903230000',\n",
       "       '3204130000', '2907290000', '3824999609', '3902909000',\n",
       "       '3914000000', '2917139000', '2922290000', '2823000000',\n",
       "       '2921511900', '2922197000', '2710199800', '3812209000',\n",
       "       '2907151000', '2907220000', '2903998000', '2917110000',\n",
       "       '2921210000', '2827320001', '3206497000', '2921110000',\n",
       "       '2836400000', '2831100000', '3811290000', '2916310000',\n",
       "       '3402130000', '3906909007', '2915705000', '2921430000',\n",
       "       '2836910000', '2931900001', '2931900009', '2834298000',\n",
       "       '2921599000', '3901908000', '2827590000', '3815909000',\n",
       "       '2920907000', '3907300009', '2917330000', '2827398500',\n",
       "       '2924210000', '2826908000', '2921519009', '2909301000',\n",
       "       '2932110000', '2818200000', '3811900000', '2928009009',\n",
       "       '2915390000', '2712903900', '2905450001', '2712909900',\n",
       "       '7318157008', '3901400009', '3403990000', '2916150000',\n",
       "       '3907911000', '4002999000', '4002991000', '3202900000',\n",
       "       '3901300000', '7403110000', '2833298000', '2924190001',\n",
       "       '2930909501', '2909199000', '3907299009', '3806100000',\n",
       "       '3907299001', '2905399500', '2901100009', '2905170000',\n",
       "       '2905420000', '2907110000'], dtype=object)"
      ]
     },
     "execution_count": 18,
     "metadata": {},
     "output_type": "execute_result"
    }
   ],
   "source": [
    "ved = df['ved_g33'].unique()\n",
    "ved"
   ]
  },
  {
   "cell_type": "markdown",
   "id": "e43a42d7",
   "metadata": {},
   "source": [
    "### Cost value reformat "
   ]
  },
  {
   "cell_type": "code",
   "execution_count": 8,
   "id": "78708b2b",
   "metadata": {},
   "outputs": [],
   "source": [
    "df = df.astype({'currency_cost_g42': float, 'netto_g38': float, 'price_usdkg': float})"
   ]
  },
  {
   "cell_type": "markdown",
   "id": "7b0de99b",
   "metadata": {},
   "source": [
    "### Trash data (zero and nan both in source and calculated prices)"
   ]
  },
  {
   "cell_type": "code",
   "execution_count": 9,
   "id": "5d6ed7a4",
   "metadata": {
    "scrolled": true
   },
   "outputs": [
    {
     "data": {
      "text/html": [
       "<div>\n",
       "<style scoped>\n",
       "    .dataframe tbody tr th:only-of-type {\n",
       "        vertical-align: middle;\n",
       "    }\n",
       "\n",
       "    .dataframe tbody tr th {\n",
       "        vertical-align: top;\n",
       "    }\n",
       "\n",
       "    .dataframe thead th {\n",
       "        text-align: right;\n",
       "    }\n",
       "</style>\n",
       "<table border=\"1\" class=\"dataframe\">\n",
       "  <thead>\n",
       "    <tr style=\"text-align: right;\">\n",
       "      <th></th>\n",
       "      <th>currency_code_g221</th>\n",
       "      <th>price_currency</th>\n",
       "      <th>price_usdkg</th>\n",
       "    </tr>\n",
       "  </thead>\n",
       "  <tbody>\n",
       "    <tr>\n",
       "      <th>5481</th>\n",
       "      <td>USD</td>\n",
       "      <td>0.0</td>\n",
       "      <td>0.0</td>\n",
       "    </tr>\n",
       "    <tr>\n",
       "      <th>9008</th>\n",
       "      <td>EUR</td>\n",
       "      <td>0.0</td>\n",
       "      <td>0.0</td>\n",
       "    </tr>\n",
       "    <tr>\n",
       "      <th>2687</th>\n",
       "      <td>CHF</td>\n",
       "      <td>NaN</td>\n",
       "      <td>NaN</td>\n",
       "    </tr>\n",
       "    <tr>\n",
       "      <th>4061</th>\n",
       "      <td>USD</td>\n",
       "      <td>NaN</td>\n",
       "      <td>NaN</td>\n",
       "    </tr>\n",
       "    <tr>\n",
       "      <th>4092</th>\n",
       "      <td>USD</td>\n",
       "      <td>NaN</td>\n",
       "      <td>NaN</td>\n",
       "    </tr>\n",
       "    <tr>\n",
       "      <th>4629</th>\n",
       "      <td>RUB</td>\n",
       "      <td>NaN</td>\n",
       "      <td>NaN</td>\n",
       "    </tr>\n",
       "    <tr>\n",
       "      <th>6434</th>\n",
       "      <td>EUR</td>\n",
       "      <td>NaN</td>\n",
       "      <td>NaN</td>\n",
       "    </tr>\n",
       "    <tr>\n",
       "      <th>6466</th>\n",
       "      <td>USD</td>\n",
       "      <td>NaN</td>\n",
       "      <td>NaN</td>\n",
       "    </tr>\n",
       "    <tr>\n",
       "      <th>6603</th>\n",
       "      <td>GBP</td>\n",
       "      <td>NaN</td>\n",
       "      <td>NaN</td>\n",
       "    </tr>\n",
       "    <tr>\n",
       "      <th>6898</th>\n",
       "      <td>USD</td>\n",
       "      <td>NaN</td>\n",
       "      <td>NaN</td>\n",
       "    </tr>\n",
       "    <tr>\n",
       "      <th>7198</th>\n",
       "      <td>USD</td>\n",
       "      <td>NaN</td>\n",
       "      <td>NaN</td>\n",
       "    </tr>\n",
       "    <tr>\n",
       "      <th>14875</th>\n",
       "      <td>USD</td>\n",
       "      <td>NaN</td>\n",
       "      <td>NaN</td>\n",
       "    </tr>\n",
       "    <tr>\n",
       "      <th>15956</th>\n",
       "      <td>USD</td>\n",
       "      <td>NaN</td>\n",
       "      <td>NaN</td>\n",
       "    </tr>\n",
       "    <tr>\n",
       "      <th>17524</th>\n",
       "      <td>USD</td>\n",
       "      <td>NaN</td>\n",
       "      <td>NaN</td>\n",
       "    </tr>\n",
       "    <tr>\n",
       "      <th>17527</th>\n",
       "      <td>USD</td>\n",
       "      <td>NaN</td>\n",
       "      <td>NaN</td>\n",
       "    </tr>\n",
       "    <tr>\n",
       "      <th>17584</th>\n",
       "      <td>EUR</td>\n",
       "      <td>NaN</td>\n",
       "      <td>NaN</td>\n",
       "    </tr>\n",
       "    <tr>\n",
       "      <th>18391</th>\n",
       "      <td>RUB</td>\n",
       "      <td>NaN</td>\n",
       "      <td>NaN</td>\n",
       "    </tr>\n",
       "    <tr>\n",
       "      <th>18578</th>\n",
       "      <td>USD</td>\n",
       "      <td>NaN</td>\n",
       "      <td>NaN</td>\n",
       "    </tr>\n",
       "    <tr>\n",
       "      <th>18765</th>\n",
       "      <td>USD</td>\n",
       "      <td>NaN</td>\n",
       "      <td>NaN</td>\n",
       "    </tr>\n",
       "    <tr>\n",
       "      <th>29637</th>\n",
       "      <td>USD</td>\n",
       "      <td>NaN</td>\n",
       "      <td>NaN</td>\n",
       "    </tr>\n",
       "    <tr>\n",
       "      <th>29648</th>\n",
       "      <td>GBP</td>\n",
       "      <td>NaN</td>\n",
       "      <td>NaN</td>\n",
       "    </tr>\n",
       "    <tr>\n",
       "      <th>32238</th>\n",
       "      <td>RUB</td>\n",
       "      <td>NaN</td>\n",
       "      <td>NaN</td>\n",
       "    </tr>\n",
       "    <tr>\n",
       "      <th>32804</th>\n",
       "      <td>USD</td>\n",
       "      <td>NaN</td>\n",
       "      <td>NaN</td>\n",
       "    </tr>\n",
       "    <tr>\n",
       "      <th>34685</th>\n",
       "      <td>EUR</td>\n",
       "      <td>NaN</td>\n",
       "      <td>NaN</td>\n",
       "    </tr>\n",
       "  </tbody>\n",
       "</table>\n",
       "</div>"
      ],
      "text/plain": [
       "      currency_code_g221  price_currency  price_usdkg\n",
       "5481                 USD             0.0          0.0\n",
       "9008                 EUR             0.0          0.0\n",
       "2687                 CHF             NaN          NaN\n",
       "4061                 USD             NaN          NaN\n",
       "4092                 USD             NaN          NaN\n",
       "4629                 RUB             NaN          NaN\n",
       "6434                 EUR             NaN          NaN\n",
       "6466                 USD             NaN          NaN\n",
       "6603                 GBP             NaN          NaN\n",
       "6898                 USD             NaN          NaN\n",
       "7198                 USD             NaN          NaN\n",
       "14875                USD             NaN          NaN\n",
       "15956                USD             NaN          NaN\n",
       "17524                USD             NaN          NaN\n",
       "17527                USD             NaN          NaN\n",
       "17584                EUR             NaN          NaN\n",
       "18391                RUB             NaN          NaN\n",
       "18578                USD             NaN          NaN\n",
       "18765                USD             NaN          NaN\n",
       "29637                USD             NaN          NaN\n",
       "29648                GBP             NaN          NaN\n",
       "32238                RUB             NaN          NaN\n",
       "32804                USD             NaN          NaN\n",
       "34685                EUR             NaN          NaN"
      ]
     },
     "execution_count": 9,
     "metadata": {},
     "output_type": "execute_result"
    }
   ],
   "source": [
    "df['price_currency'] = df['currency_cost_g42'] / df['netto_g38']\n",
    "zero_zero = df[(df['price_currency'] == 0) & (df['price_usdkg'] == 0)].loc[:, ['currency_code_g221','price_currency', 'price_usdkg']]\n",
    "nan_zero = df[(df['price_currency'].isna()) & (df['price_usdkg'] == 0)].loc[:, ['currency_code_g221','price_currency', 'price_usdkg']]\n",
    "zero_nan = df[(df['price_currency'] == 0) & (df['price_usdkg'].isna())].loc[:, ['currency_code_g221','price_currency', 'price_usdkg']]\n",
    "nan_nan = df[(df['price_currency'].isna()) & (df['price_usdkg'].isna())].loc[:, ['currency_code_g221','price_currency', 'price_usdkg']]\n",
    "pd.concat([zero_zero, nan_zero, zero_nan, nan_nan])"
   ]
  },
  {
   "cell_type": "markdown",
   "id": "53c0787b",
   "metadata": {},
   "source": [
    "### Replace the source price by calculated"
   ]
  },
  {
   "cell_type": "code",
   "execution_count": 10,
   "id": "c198990e",
   "metadata": {
    "scrolled": true
   },
   "outputs": [
    {
     "data": {
      "text/html": [
       "<div>\n",
       "<style scoped>\n",
       "    .dataframe tbody tr th:only-of-type {\n",
       "        vertical-align: middle;\n",
       "    }\n",
       "\n",
       "    .dataframe tbody tr th {\n",
       "        vertical-align: top;\n",
       "    }\n",
       "\n",
       "    .dataframe thead th {\n",
       "        text-align: right;\n",
       "    }\n",
       "</style>\n",
       "<table border=\"1\" class=\"dataframe\">\n",
       "  <thead>\n",
       "    <tr style=\"text-align: right;\">\n",
       "      <th></th>\n",
       "      <th>currency_code_g221</th>\n",
       "      <th>price_currency</th>\n",
       "      <th>price_usdkg</th>\n",
       "    </tr>\n",
       "  </thead>\n",
       "  <tbody>\n",
       "    <tr>\n",
       "      <th>666</th>\n",
       "      <td>USD</td>\n",
       "      <td>inf</td>\n",
       "      <td>NaN</td>\n",
       "    </tr>\n",
       "    <tr>\n",
       "      <th>2701</th>\n",
       "      <td>USD</td>\n",
       "      <td>inf</td>\n",
       "      <td>NaN</td>\n",
       "    </tr>\n",
       "    <tr>\n",
       "      <th>3075</th>\n",
       "      <td>USD</td>\n",
       "      <td>inf</td>\n",
       "      <td>NaN</td>\n",
       "    </tr>\n",
       "    <tr>\n",
       "      <th>4061</th>\n",
       "      <td>USD</td>\n",
       "      <td>NaN</td>\n",
       "      <td>NaN</td>\n",
       "    </tr>\n",
       "    <tr>\n",
       "      <th>4092</th>\n",
       "      <td>USD</td>\n",
       "      <td>NaN</td>\n",
       "      <td>NaN</td>\n",
       "    </tr>\n",
       "    <tr>\n",
       "      <th>...</th>\n",
       "      <td>...</td>\n",
       "      <td>...</td>\n",
       "      <td>...</td>\n",
       "    </tr>\n",
       "    <tr>\n",
       "      <th>33494</th>\n",
       "      <td>USD</td>\n",
       "      <td>0.76325</td>\n",
       "      <td>0.0</td>\n",
       "    </tr>\n",
       "    <tr>\n",
       "      <th>33495</th>\n",
       "      <td>USD</td>\n",
       "      <td>0.77183</td>\n",
       "      <td>0.0</td>\n",
       "    </tr>\n",
       "    <tr>\n",
       "      <th>33503</th>\n",
       "      <td>USD</td>\n",
       "      <td>0.79792</td>\n",
       "      <td>0.0</td>\n",
       "    </tr>\n",
       "    <tr>\n",
       "      <th>33510</th>\n",
       "      <td>USD</td>\n",
       "      <td>0.79592</td>\n",
       "      <td>0.0</td>\n",
       "    </tr>\n",
       "    <tr>\n",
       "      <th>33512</th>\n",
       "      <td>USD</td>\n",
       "      <td>0.71475</td>\n",
       "      <td>0.0</td>\n",
       "    </tr>\n",
       "  </tbody>\n",
       "</table>\n",
       "<p>266 rows × 3 columns</p>\n",
       "</div>"
      ],
      "text/plain": [
       "      currency_code_g221  price_currency  price_usdkg\n",
       "666                  USD             inf          NaN\n",
       "2701                 USD             inf          NaN\n",
       "3075                 USD             inf          NaN\n",
       "4061                 USD             NaN          NaN\n",
       "4092                 USD             NaN          NaN\n",
       "...                  ...             ...          ...\n",
       "33494                USD         0.76325          0.0\n",
       "33495                USD         0.77183          0.0\n",
       "33503                USD         0.79792          0.0\n",
       "33510                USD         0.79592          0.0\n",
       "33512                USD         0.71475          0.0\n",
       "\n",
       "[266 rows x 3 columns]"
      ]
     },
     "execution_count": 10,
     "metadata": {},
     "output_type": "execute_result"
    }
   ],
   "source": [
    "usd_nan = df[(df['price_usdkg'].isna()) & (df['currency_code_g221'] == 'USD')].loc[:, ['currency_code_g221', 'price_currency', 'price_usdkg']]\n",
    "usd_zero = df[(df['price_usdkg'] == 0) & (df['currency_code_g221'] == 'USD')].loc[:, ['currency_code_g221', 'price_currency', 'price_usdkg']]\n",
    "pd.concat([usd_nan, usd_zero])"
   ]
  },
  {
   "cell_type": "code",
   "execution_count": 11,
   "id": "62c3bafa",
   "metadata": {},
   "outputs": [],
   "source": [
    "for i in df.index.tolist():\n",
    "    if (df.loc[i, 'price_usdkg'] == 0 or np.isnan(df.loc[i, 'price_usdkg'])) \\\n",
    "    and df.loc[i, 'currency_code_g221'] == 'USD' \\\n",
    "    and not np.isinf(df.loc[i, 'price_currency']):\n",
    "        df.loc[i, 'price_usdkg'] = round(df.loc[i, 'price_currency'], 2)"
   ]
  },
  {
   "cell_type": "markdown",
   "id": "f25cd717",
   "metadata": {},
   "source": [
    "### Filter NaN, zero and INF prices"
   ]
  },
  {
   "cell_type": "code",
   "execution_count": 12,
   "id": "80b7104d",
   "metadata": {},
   "outputs": [],
   "source": [
    "df = df[(~df['price_usdkg'].isna()) & (df['price_usdkg'] < np.inf) & (df['price_usdkg'] != 0)]"
   ]
  },
  {
   "cell_type": "markdown",
   "id": "966b5188",
   "metadata": {},
   "source": [
    "### Simple descriptive statistics"
   ]
  },
  {
   "cell_type": "code",
   "execution_count": 13,
   "id": "0f84eddd",
   "metadata": {
    "scrolled": true
   },
   "outputs": [
    {
     "name": "stdout",
     "output_type": "stream",
     "text": [
      "2905392500 n=57 min=1.4 mean=3.6 median=1.78 max=24.04\n",
      "2930909508 n=1436 min=0.97 mean=2590.8 median=49.63 max=337730.0\n",
      "1520000000 n=1148 min=0.14 mean=33.68 median=0.53 max=5860.8\n",
      "3817008000 n=28 min=0.55 mean=1.21 median=0.86 max=8.93\n",
      "2710193500 n=79 min=0.28 mean=38.63 median=0.87 max=2795.39\n",
      "2503001000 n=314 min=0.02 mean=0.09 median=0.07 max=0.2\n",
      "2901290000 n=2959 min=0.22 mean=362.63 median=1.72 max=111459.9\n",
      "2909498009 n=1483 min=0.57 mean=758.87 median=4.17 max=110656.5\n",
      "2933790000 n=146 min=1.57 mean=19828.93 median=76.03 max=271907.0\n",
      "3823700000 n=692 min=1.31 mean=3.66 median=2.09 max=266.67\n",
      "7403190000 n=253 min=2.25 mean=78.91 median=7.74 max=3189.27\n",
      "2909430009 n=382 min=0.79 mean=8.31 median=3.14 max=331.84\n",
      "2825100000 n=252 min=1.34 mean=234.4 median=59.66 max=15009.17\n",
      "2924190009 n=2372 min=0.27 mean=2931.1 median=41.9 max=519500.0\n",
      "2710193100 n=114 min=0.31 mean=1.17 median=1.44 max=2.06\n",
      "2914290000 n=37 min=2.17 mean=895.06 median=242.27 max=7166.0\n",
      "2707509000 n=371 min=0.18 mean=5.94 median=0.94 max=228.42\n",
      "2905320000 n=5506 min=0.04 mean=10563.05 median=1.9 max=55056000.0\n",
      "2707999900 n=196 min=0.13 mean=1.22 median=0.33 max=29.08\n",
      "2847000000 n=3189 min=0.01 mean=13.37 median=0.55 max=3105.12\n",
      "2907130000 n=101 min=0.71 mean=136.1 median=2.26 max=4700.0\n",
      "2930909509 n=2608 min=0.68 mean=1911.79 median=87.7 max=219981.0\n",
      "2907199000 n=1509 min=0.55 mean=1054.84 median=2.5 max=126261.0\n",
      "2712903900 n=853 min=0.23 mean=5.66 median=1.0 max=3855.11\n",
      "2710129001 n=86 min=1.17 mean=1.65 median=1.6 max=2.34\n",
      "2902900000 n=444 min=0.3 mean=1800.55 median=208.09 max=163102.0\n",
      "2905450009 n=1801 min=0.2 mean=238.64 median=1.11 max=126982.5\n",
      "2933399900 n=1 min=124.0 mean=124.0 median=124.0 max=124.0\n",
      "2903230000 n=176 min=0.58 mean=2.28 median=2.18 max=8.14\n",
      "3204130000 n=1 min=188.25 mean=188.25 median=188.25 max=188.25\n",
      "2907290000 n=4 min=3.3 mean=7.96 median=8.04 max=12.46\n",
      "3824999609 n=9 min=3.47 mean=3.89 median=4.0 max=4.34\n",
      "3902909000 n=22 min=3.22 mean=4.53 median=3.73 max=12.4\n",
      "3914000000 n=6 min=1.73 mean=4.1 median=4.42 max=5.39\n",
      "2917139000 n=2 min=5.34 mean=5.42 median=5.42 max=5.51\n",
      "2922290000 n=2 min=12.77 mean=13.14 median=13.14 max=13.5\n",
      "2823000000 n=2 min=3.0 mean=3.1 median=3.1 max=3.2\n",
      "2921511900 n=6 min=7.9 mean=18.77 median=11.4 max=40.6\n",
      "2922197000 n=1 min=74.5 mean=74.5 median=74.5 max=74.5\n",
      "2710199800 n=3 min=2.24 mean=2.31 median=2.31 max=2.37\n",
      "3812209000 n=1 min=4.83 mean=4.83 median=4.83 max=4.83\n",
      "2907151000 n=2 min=13.8 mean=13.9 median=13.9 max=14.0\n",
      "2907220000 n=1 min=7.09 mean=7.09 median=7.09 max=7.09\n",
      "2903998000 n=1 min=1.45 mean=1.45 median=1.45 max=1.45\n",
      "2917110000 n=2 min=1.74 mean=1.82 median=1.82 max=1.9\n",
      "2921210000 n=1 min=5.2 mean=5.2 median=5.2 max=5.2\n",
      "2827320001 n=2 min=1.34 mean=1.34 median=1.34 max=1.34\n",
      "3206497000 n=1 min=12.1 mean=12.1 median=12.1 max=12.1\n",
      "2921110000 n=2 min=1.56 mean=1.56 median=1.56 max=1.56\n",
      "2836400000 n=1 min=1.4 mean=1.4 median=1.4 max=1.4\n",
      "2831100000 n=2 min=2.56 mean=2.7 median=2.7 max=2.83\n",
      "3811290000 n=1 min=6.66 mean=6.66 median=6.66 max=6.66\n",
      "2916310000 n=3 min=8.5 mean=39.5 median=52.0 max=58.0\n",
      "3402130000 n=7 min=2.83 mean=2.97 median=3.0 max=3.13\n",
      "3906909007 n=12 min=2.65 mean=3.63 median=3.93 max=4.02\n",
      "2915705000 n=1 min=1.7 mean=1.7 median=1.7 max=1.7\n",
      "2921430000 n=3 min=9.06 mean=15.64 median=18.52 max=19.34\n",
      "2836910000 n=3 min=10.51 mean=11.6 median=10.85 max=13.43\n",
      "2931900001 n=1 min=3.13 mean=3.13 median=3.13 max=3.13\n",
      "2931900009 n=5 min=5.44 mean=17.94 median=18.6 max=25.5\n",
      "2834298000 n=2 min=25.94 mean=40.76 median=40.76 max=55.57\n",
      "2921599000 n=1 min=52.5 mean=52.5 median=52.5 max=52.5\n",
      "3901908000 n=2 min=7.2 mean=7.2 median=7.2 max=7.2\n",
      "2827590000 n=1 min=11.43 mean=11.43 median=11.43 max=11.43\n",
      "3815909000 n=3 min=9.6 mean=30.32 median=24.35 max=57.0\n",
      "2920907000 n=1 min=36.24 mean=36.24 median=36.24 max=36.24\n",
      "3907300009 n=2 min=42.83 mean=68.91 median=68.91 max=95.0\n",
      "2917330000 n=1 min=28.0 mean=28.0 median=28.0 max=28.0\n",
      "2827398500 n=1 min=24.01 mean=24.01 median=24.01 max=24.01\n",
      "2924210000 n=1 min=65.0 mean=65.0 median=65.0 max=65.0\n",
      "2826908000 n=1 min=325.0 mean=325.0 median=325.0 max=325.0\n",
      "2921519009 n=2 min=10.76 mean=10.76 median=10.76 max=10.76\n",
      "2909301000 n=1 min=7.28 mean=7.28 median=7.28 max=7.28\n",
      "2932110000 n=1 min=7.1 mean=7.1 median=7.1 max=7.1\n",
      "2818200000 n=1 min=0.65 mean=0.65 median=0.65 max=0.65\n",
      "3811900000 n=43 min=2.9 mean=3.47 median=3.15 max=6.57\n",
      "2928009009 n=4 min=5.38 mean=5.49 median=5.46 max=5.66\n",
      "2915390000 n=9 min=1.89 mean=2.23 median=1.89 max=2.77\n",
      "2905450001 n=165 min=0.5 mean=630.26 median=58.53 max=34650.0\n",
      "2712909900 n=520 min=0.43 mean=74.3 median=1.67 max=3631.92\n",
      "7318157008 n=2 min=5.44 mean=6.3 median=6.3 max=7.17\n",
      "3901400009 n=16 min=3.81 mean=5.01 median=4.86 max=8.21\n",
      "3403990000 n=3 min=3.18 mean=3.32 median=3.39 max=3.4\n",
      "2916150000 n=2 min=3.29 mean=3.32 median=3.32 max=3.36\n",
      "3907911000 n=1 min=3.93 mean=3.93 median=3.93 max=3.93\n",
      "4002999000 n=1 min=8.41 mean=8.41 median=8.41 max=8.41\n",
      "4002991000 n=1 min=7.24 mean=7.24 median=7.24 max=7.24\n",
      "3202900000 n=1 min=4.03 mean=4.03 median=4.03 max=4.03\n",
      "3901300000 n=3 min=4.68 mean=4.7 median=4.71 max=4.72\n",
      "7403110000 n=31 min=7.97 mean=8.36 median=8.18 max=9.18\n",
      "2833298000 n=567 min=0.09 mean=76.91 median=0.43 max=23765.0\n",
      "2924190001 n=20 min=1.0 mean=238.91 median=7.43 max=995.7\n",
      "2930909501 n=15 min=4.47 mean=12.71 median=7.45 max=31.32\n",
      "2909199000 n=1268 min=0.47 mean=767.8 median=1.1 max=106600.0\n",
      "3907299009 n=1127 min=0.31 mean=150.0 median=2.86 max=69351.0\n",
      "3806100000 n=307 min=0.03 mean=43.43 median=3.0 max=3985.95\n",
      "3907299001 n=709 min=1.27 mean=3.74 median=2.67 max=184.21\n",
      "2905399500 n=624 min=0.86 mean=77.84 median=13.1 max=16578.0\n",
      "2901100009 n=42 min=0.68 mean=0.95 median=0.94 max=1.47\n",
      "2905170000 n=165 min=1.4 mean=547.22 median=2.83 max=10934.0\n",
      "2905420000 n=47 min=1.17 mean=2.21 median=1.45 max=22.08\n",
      "2907110000 n=254 min=0.21 mean=0.89 median=0.58 max=24.84\n"
     ]
    }
   ],
   "source": [
    "for code in ved:\n",
    "    price = df[df['ved_g33'] == code]['price_usdkg'].tolist()\n",
    "    price = [float(p) for p in price if (not np.isnan(p) and p != 0 and not np.isinf(p))]\n",
    "    print(code,\n",
    "          f'n={len(price)}',\n",
    "          f'min={round(min(price), 2)}', \n",
    "          f'mean={round(np.mean(price), 2)}', \n",
    "          f'median={round(np.percentile(price, 50), 2)}', \n",
    "          f'max={round(max(price), 2)}')"
   ]
  },
  {
   "cell_type": "markdown",
   "id": "324cdf86",
   "metadata": {},
   "source": [
    "### ВЭД 2905392500"
   ]
  },
  {
   "cell_type": "code",
   "execution_count": 14,
   "id": "7be172d1",
   "metadata": {},
   "outputs": [
    {
     "data": {
      "image/png": "[encoded data removed]",
      "text/plain": [
       "<Figure size 1000x250 with 1 Axes>"
      ]
     },
     "metadata": {},
     "output_type": "display_data"
    }
   ],
   "source": [
    "for code in ved[0:1]:\n",
    "    sns.displot(df[(df['ved_g33'] == code)], x=\"price_usdkg\", height=2.5, aspect=4)"
   ]
  },
  {
   "cell_type": "markdown",
   "id": "8699369f",
   "metadata": {},
   "source": [
    "### ВЭД 2930909508 "
   ]
  },
  {
   "cell_type": "code",
   "execution_count": 15,
   "id": "a80e366c",
   "metadata": {
    "scrolled": true
   },
   "outputs": [
    {
     "data": {
      "image/png": "[encoded data removed]",
      "text/plain": [
       "<Figure size 1000x250 with 1 Axes>"
      ]
     },
     "metadata": {},
     "output_type": "display_data"
    }
   ],
   "source": [
    "for code in ved[1:2]:\n",
    "    sns.displot(df[(df['ved_g33'] == code) & (df['price_usdkg'] < 1000)], x=\"price_usdkg\", height=2.5, aspect=4)"
   ]
  },
  {
   "cell_type": "code",
   "execution_count": 16,
   "id": "9d8e6ba9",
   "metadata": {},
   "outputs": [
    {
     "data": {
      "image/png": "[encoded data removed]",
      "text/plain": [
       "<Figure size 1000x250 with 1 Axes>"
      ]
     },
     "metadata": {},
     "output_type": "display_data"
    }
   ],
   "source": [
    "for code in ved[1:2]:\n",
    "    sns.displot(df[(df['ved_g33'] == code) & (df['price_usdkg'] >= 1000)], x=\"price_usdkg\", height=2.5, aspect=4)"
   ]
  },
  {
   "cell_type": "markdown",
   "id": "6884bf22",
   "metadata": {},
   "source": [
    "### ВЭД  1520000000"
   ]
  },
  {
   "cell_type": "code",
   "execution_count": 17,
   "id": "cedfd836",
   "metadata": {
    "scrolled": true
   },
   "outputs": [
    {
     "data": {
      "image/png": "[encoded data removed]",
      "text/plain": [
       "<Figure size 1000x250 with 1 Axes>"
      ]
     },
     "metadata": {},
     "output_type": "display_data"
    }
   ],
   "source": [
    "for code in ved[2:3]:\n",
    "    sns.displot(df[(df['ved_g33'] == code) & (df['price_usdkg'] < 5)], \n",
    "                x=\"price_usdkg\", height=2.5, aspect=4)"
   ]
  },
  {
   "cell_type": "code",
   "execution_count": 18,
   "id": "581b49e5",
   "metadata": {
    "scrolled": true
   },
   "outputs": [
    {
     "data": {
      "image/png": "[encoded data removed]",
      "text/plain": [
       "<Figure size 1000x250 with 1 Axes>"
      ]
     },
     "metadata": {},
     "output_type": "display_data"
    }
   ],
   "source": [
    "for code in ved[2:3]:\n",
    "    sns.displot(df[(df['ved_g33'] == code) & (df['price_usdkg'] >= 5) & (df['price_usdkg'] < 100)], \n",
    "                x=\"price_usdkg\", height=2.5, aspect=4)"
   ]
  },
  {
   "cell_type": "code",
   "execution_count": 19,
   "id": "7fbb7493",
   "metadata": {
    "scrolled": true
   },
   "outputs": [
    {
     "data": {
      "image/png": "[encoded data removed]",
      "text/plain": [
       "<Figure size 1000x250 with 1 Axes>"
      ]
     },
     "metadata": {},
     "output_type": "display_data"
    }
   ],
   "source": [
    "for code in ved[2:3]:\n",
    "    sns.displot(df[(df['ved_g33'] == code) & (df['price_usdkg'] >= 100)], \n",
    "                x=\"price_usdkg\", height=2.5, aspect=4)"
   ]
  },
  {
   "cell_type": "markdown",
   "id": "c893dfa8",
   "metadata": {},
   "source": [
    "### ВЭД  3817008000"
   ]
  },
  {
   "cell_type": "code",
   "execution_count": 20,
   "id": "51164061",
   "metadata": {},
   "outputs": [
    {
     "data": {
      "image/png": "[encoded data removed]",
      "text/plain": [
       "<Figure size 1000x250 with 1 Axes>"
      ]
     },
     "metadata": {},
     "output_type": "display_data"
    }
   ],
   "source": [
    "for code in ved[3:4]:\n",
    "    sns.displot(df[df['ved_g33'] == code], x=\"price_usdkg\", height=2.5, aspect=4)"
   ]
  },
  {
   "cell_type": "markdown",
   "id": "c9dc1cb6",
   "metadata": {},
   "source": [
    "### ВЭД 2901290000"
   ]
  },
  {
   "cell_type": "code",
   "execution_count": 22,
   "id": "8bda868d",
   "metadata": {},
   "outputs": [
    {
     "data": {
      "image/png": "[encoded data removed]",
      "text/plain": [
       "<Figure size 1000x250 with 1 Axes>"
      ]
     },
     "metadata": {},
     "output_type": "display_data"
    }
   ],
   "source": [
    "for code in ved[6:7]:\n",
    "    sns.displot(df[(df['ved_g33'] == code) & (df['price_usdkg'] <= 10)], \n",
    "                x=\"price_usdkg\", height=2.5, aspect=4)"
   ]
  },
  {
   "cell_type": "code",
   "execution_count": 23,
   "id": "40d363c7",
   "metadata": {},
   "outputs": [
    {
     "data": {
      "image/png": "[encoded data removed]",
      "text/plain": [
       "<Figure size 1000x250 with 1 Axes>"
      ]
     },
     "metadata": {},
     "output_type": "display_data"
    }
   ],
   "source": [
    "for code in ved[6:7]:\n",
    "    sns.displot(df[(df['ved_g33'] == code) & (df['price_usdkg'] > 10)], \n",
    "                x=\"price_usdkg\", height=2.5, aspect=4)"
   ]
  },
  {
   "cell_type": "markdown",
   "id": "3b14e107",
   "metadata": {},
   "source": [
    "### ВЭД 2909498009"
   ]
  },
  {
   "cell_type": "code",
   "execution_count": 24,
   "id": "72fb84cc",
   "metadata": {},
   "outputs": [
    {
     "data": {
      "image/png": "[encoded data removed]",
      "text/plain": [
       "<Figure size 1000x250 with 1 Axes>"
      ]
     },
     "metadata": {},
     "output_type": "display_data"
    }
   ],
   "source": [
    "for code in ved[7:8]:\n",
    "    sns.displot(df[(df['ved_g33'] == code) & (df['price_usdkg'] <= 10)], \n",
    "                x=\"price_usdkg\", height=2.5, aspect=4)"
   ]
  },
  {
   "cell_type": "code",
   "execution_count": 25,
   "id": "f17d81d5",
   "metadata": {},
   "outputs": [
    {
     "data": {
      "image/png": "[encoded data removed]",
      "text/plain": [
       "<Figure size 1000x250 with 1 Axes>"
      ]
     },
     "metadata": {},
     "output_type": "display_data"
    }
   ],
   "source": [
    "for code in ved[7:8]:\n",
    "    sns.displot(df[(df['ved_g33'] == code) & (df['price_usdkg'] > 10) & (df['price_usdkg'] <= 100)], \n",
    "                x=\"price_usdkg\", height=2.5, aspect=4)"
   ]
  },
  {
   "cell_type": "code",
   "execution_count": 26,
   "id": "32a33351",
   "metadata": {},
   "outputs": [
    {
     "data": {
      "image/png": "[encoded data removed]",
      "text/plain": [
       "<Figure size 1000x250 with 1 Axes>"
      ]
     },
     "metadata": {},
     "output_type": "display_data"
    }
   ],
   "source": [
    "for code in ved[7:8]:\n",
    "    sns.displot(df[(df['ved_g33'] == code) & (df['price_usdkg'] > 100) & (df['price_usdkg'] <= 1000)], \n",
    "                x=\"price_usdkg\", height=2.5, aspect=4)"
   ]
  },
  {
   "cell_type": "code",
   "execution_count": 27,
   "id": "fe0ec0fe",
   "metadata": {},
   "outputs": [
    {
     "data": {
      "image/png": "[encoded data removed]",
      "text/plain": [
       "<Figure size 1000x250 with 1 Axes>"
      ]
     },
     "metadata": {},
     "output_type": "display_data"
    }
   ],
   "source": [
    "for code in ved[7:8]:\n",
    "    sns.displot(df[(df['ved_g33'] == code) & (df['price_usdkg'] > 1000) & (df['price_usdkg'] <= 10000)], \n",
    "                x=\"price_usdkg\", height=2.5, aspect=4)"
   ]
  },
  {
   "cell_type": "code",
   "execution_count": 28,
   "id": "4635f725",
   "metadata": {},
   "outputs": [
    {
     "data": {
      "image/png": "[encoded data removed]",
      "text/plain": [
       "<Figure size 1000x250 with 1 Axes>"
      ]
     },
     "metadata": {},
     "output_type": "display_data"
    }
   ],
   "source": [
    "for code in ved[7:8]:\n",
    "    sns.displot(df[(df['ved_g33'] == code) & (df['price_usdkg'] > 10000)], \n",
    "                x=\"price_usdkg\", height=2.5, aspect=4)"
   ]
  },
  {
   "cell_type": "markdown",
   "id": "3fe235bd",
   "metadata": {},
   "source": [
    "## Price subcategory separation"
   ]
  },
  {
   "cell_type": "code",
   "execution_count": 29,
   "id": "684cafea",
   "metadata": {},
   "outputs": [],
   "source": [
    "base = 4"
   ]
  },
  {
   "cell_type": "markdown",
   "id": "d2ec74a0",
   "metadata": {},
   "source": [
    "This value \"base\" means relation between higher and lower limits of price subcategories. It supposed that the lower limit of subcategory can by 2 times less that the middle and the higher limit can be 2 times more. This is the very rough method and gauss-based clasterisation needed later"
   ]
  },
  {
   "cell_type": "code",
   "execution_count": 30,
   "id": "7168e96c",
   "metadata": {},
   "outputs": [],
   "source": [
    "for code in ved:\n",
    "    price = df[df['ved_g33'] == code]['price_usdkg'].tolist()\n",
    "    rel = max(price) / min(price)\n",
    "    \n",
    "    if rel == 1: groups = 1 \n",
    "    else: groups = m.ceil(m.log(rel, base))\n",
    "        \n",
    "    for g in range(groups):\n",
    "        subtype = code + '_' + str(g + 1)\n",
    "            \n",
    "        indices = df[\n",
    "            (df['ved_g33'] == code) \\\n",
    "            & (df['price_usdkg'] >= min(price) * base ** g) \\\n",
    "            & (df['price_usdkg'] < min(price) * base ** (g + 1))\n",
    "            ].index\n",
    "        df.loc[indices, 'subtype'] = subtype    "
   ]
  },
  {
   "cell_type": "code",
   "execution_count": 42,
   "id": "2f26142d",
   "metadata": {},
   "outputs": [
    {
     "data": {
      "text/plain": [
       "214"
      ]
     },
     "execution_count": 42,
     "metadata": {},
     "output_type": "execute_result"
    }
   ],
   "source": [
    "sum(df['subtype'].value_counts() > 5)"
   ]
  },
  {
   "cell_type": "markdown",
   "id": "80cf58d8",
   "metadata": {},
   "source": []
  },
  {
   "cell_type": "code",
   "execution_count": 43,
   "id": "a73167e4",
   "metadata": {},
   "outputs": [
    {
     "data": {
      "text/plain": [
       "175"
      ]
     },
     "execution_count": 43,
     "metadata": {},
     "output_type": "execute_result"
    }
   ],
   "source": [
    "sum(df[df['price_usdkg'] < 1000]['subtype'].value_counts() > 5)"
   ]
  },
  {
   "cell_type": "markdown",
   "id": "5e0c497c",
   "metadata": {},
   "source": [
    "### Laboratory reactive label"
   ]
  },
  {
   "cell_type": "code",
   "execution_count": 11,
   "id": "5ab813ea",
   "metadata": {},
   "outputs": [],
   "source": [
    "keywords = ['ЛАБОРАТ', 'НАУЧН', 'КАЧЕСТВА', 'РЕАКТИВ', 'ОБРАЗЕЦ', 'ОБРАЗЦ']\n",
    "for i in df.index:\n",
    "    df.loc[i, 'lab_label'] = False\n",
    "    for k in keywords:\n",
    "        if k in df.loc[i, 'product_char_g311']:\n",
    "            df.loc[i, 'lab_label'] = True\n",
    "            break"
   ]
  },
  {
   "cell_type": "markdown",
   "id": "968dc946",
   "metadata": {},
   "source": [
    "#### Label check"
   ]
  },
  {
   "cell_type": "code",
   "execution_count": 14,
   "id": "28c31006",
   "metadata": {
    "scrolled": true
   },
   "outputs": [
    {
     "data": {
      "text/html": [
       "<div>\n",
       "<style scoped>\n",
       "    .dataframe tbody tr th:only-of-type {\n",
       "        vertical-align: middle;\n",
       "    }\n",
       "\n",
       "    .dataframe tbody tr th {\n",
       "        vertical-align: top;\n",
       "    }\n",
       "\n",
       "    .dataframe thead th {\n",
       "        text-align: right;\n",
       "    }\n",
       "</style>\n",
       "<table border=\"1\" class=\"dataframe\">\n",
       "  <thead>\n",
       "    <tr style=\"text-align: right;\">\n",
       "      <th></th>\n",
       "      <th>product_char_g311</th>\n",
       "      <th>lab_label</th>\n",
       "    </tr>\n",
       "  </thead>\n",
       "  <tbody>\n",
       "    <tr>\n",
       "      <th>75</th>\n",
       "      <td>FQX ГЛИЦЕРИН СЫРОЙ; ГЛИЦЕРИНОВАЯ ВОДА И ГЛИЦЕР...</td>\n",
       "      <td>False</td>\n",
       "    </tr>\n",
       "    <tr>\n",
       "      <th>104</th>\n",
       "      <td>ГЛИЦЕРИНОВАЯ ВОДА С ЧИСТОТОЙ МЕНЕЕ 95% (В ПЕРЕ...</td>\n",
       "      <td>True</td>\n",
       "    </tr>\n",
       "    <tr>\n",
       "      <th>105</th>\n",
       "      <td>ГЛИЦЕРИН СЫРОЙ; ГЛИЦЕРИНОВАЯ ВОДА И ГЛИЦЕРИНОВ...</td>\n",
       "      <td>False</td>\n",
       "    </tr>\n",
       "    <tr>\n",
       "      <th>167</th>\n",
       "      <td>ГЛИЦЕРИНОВАЯ ВОДА С ЧИСТОТОЙ МЕНЕЕ 95% (В ПЕРЕ...</td>\n",
       "      <td>True</td>\n",
       "    </tr>\n",
       "    <tr>\n",
       "      <th>471</th>\n",
       "      <td>ГЛИЦЕРИН НАТУРАЛЬНЫЙ СЫРОЙ, ПРЕДНАЗНАЧЕН ДЛЯ Р...</td>\n",
       "      <td>False</td>\n",
       "    </tr>\n",
       "    <tr>\n",
       "      <th>507</th>\n",
       "      <td>ГЛИЦЕРИН СЫРОЙ; ГЛИЦЕРИНОВАЯ ВОДА И ГЛИЦЕРИНОВ...</td>\n",
       "      <td>False</td>\n",
       "    </tr>\n",
       "    <tr>\n",
       "      <th>574</th>\n",
       "      <td>ГЛИЦЕРИН СЫРОЙ С ЧИСТОТОЙ 87%, ПРЕДНАЗНАЧЕН ДЛ...</td>\n",
       "      <td>False</td>\n",
       "    </tr>\n",
       "    <tr>\n",
       "      <th>605</th>\n",
       "      <td>ГЛИЦЕРИН СЫРОЙ; ГЛИЦЕРИНОВАЯ ВОДА И ГЛИЦЕРИНОВ...</td>\n",
       "      <td>False</td>\n",
       "    </tr>\n",
       "    <tr>\n",
       "      <th>617</th>\n",
       "      <td>ГЛИЦЕРИН СЫРОЙ; ГЛИЦЕРИНОВАЯ ВОДА И ГЛИЦЕРИНОВ...</td>\n",
       "      <td>False</td>\n",
       "    </tr>\n",
       "    <tr>\n",
       "      <th>643</th>\n",
       "      <td>YUE ГЛИЦЕРИН СЫРОЙ ГЛИЦЕРИНОВАЯ: ВОДА И ГЛИЦЕР...</td>\n",
       "      <td>False</td>\n",
       "    </tr>\n",
       "    <tr>\n",
       "      <th>748</th>\n",
       "      <td>КАТ.8.1,8.2 ПРОДУКЦИЯ ВОЕННОГО НАЗНАЧЕНИЯ СОГЛ...</td>\n",
       "      <td>False</td>\n",
       "    </tr>\n",
       "    <tr>\n",
       "      <th>869</th>\n",
       "      <td>ГЛИЦЕРИНОВАЯ ВОДА С ЧИСТОТОЙ МЕНЕЕ 95% (В ПЕРЕ...</td>\n",
       "      <td>True</td>\n",
       "    </tr>\n",
       "    <tr>\n",
       "      <th>977</th>\n",
       "      <td>ГЛИЦЕРИНОВАЯ ВОДА С ЧИСТОТОЙ МЕНЕЕ 95% (В ПЕРЕ...</td>\n",
       "      <td>True</td>\n",
       "    </tr>\n",
       "    <tr>\n",
       "      <th>983</th>\n",
       "      <td>ГЛИЦЕРИН СЫРОЙ; ГЛИЦЕРИНОВАЯ ВОДА И ГЛИЦЕРИНОВ...</td>\n",
       "      <td>False</td>\n",
       "    </tr>\n",
       "    <tr>\n",
       "      <th>1032</th>\n",
       "      <td>ГЛИЦЕРИН СЫРОЙ С ЧИСТОТОЙ 87%, ПРЕДНАЗНАЧЕН ДЛ...</td>\n",
       "      <td>False</td>\n",
       "    </tr>\n",
       "    <tr>\n",
       "      <th>1068</th>\n",
       "      <td>ГЛИЦЕРИН НАТУРАЛЬНЫЙ СЫРОЙ, ПРЕДНАЗНАЧЕН ДЛЯ Р...</td>\n",
       "      <td>False</td>\n",
       "    </tr>\n",
       "    <tr>\n",
       "      <th>1079</th>\n",
       "      <td>ГЛИЦЕРИН СЫРОЙ С ЧИСТОТОЙ 87%, ПРЕДНАЗНАЧЕН ДЛ...</td>\n",
       "      <td>False</td>\n",
       "    </tr>\n",
       "    <tr>\n",
       "      <th>1187</th>\n",
       "      <td>ГЛИЦЕРИН НАТУРАЛЬНЫЙ СЫРОЙ, ПРЕДНАЗНАЧЕН ДЛЯ Р...</td>\n",
       "      <td>False</td>\n",
       "    </tr>\n",
       "  </tbody>\n",
       "</table>\n",
       "</div>"
      ],
      "text/plain": [
       "                                      product_char_g311 lab_label\n",
       "75    FQX ГЛИЦЕРИН СЫРОЙ; ГЛИЦЕРИНОВАЯ ВОДА И ГЛИЦЕР...     False\n",
       "104   ГЛИЦЕРИНОВАЯ ВОДА С ЧИСТОТОЙ МЕНЕЕ 95% (В ПЕРЕ...      True\n",
       "105   ГЛИЦЕРИН СЫРОЙ; ГЛИЦЕРИНОВАЯ ВОДА И ГЛИЦЕРИНОВ...     False\n",
       "167   ГЛИЦЕРИНОВАЯ ВОДА С ЧИСТОТОЙ МЕНЕЕ 95% (В ПЕРЕ...      True\n",
       "471   ГЛИЦЕРИН НАТУРАЛЬНЫЙ СЫРОЙ, ПРЕДНАЗНАЧЕН ДЛЯ Р...     False\n",
       "507   ГЛИЦЕРИН СЫРОЙ; ГЛИЦЕРИНОВАЯ ВОДА И ГЛИЦЕРИНОВ...     False\n",
       "574   ГЛИЦЕРИН СЫРОЙ С ЧИСТОТОЙ 87%, ПРЕДНАЗНАЧЕН ДЛ...     False\n",
       "605   ГЛИЦЕРИН СЫРОЙ; ГЛИЦЕРИНОВАЯ ВОДА И ГЛИЦЕРИНОВ...     False\n",
       "617   ГЛИЦЕРИН СЫРОЙ; ГЛИЦЕРИНОВАЯ ВОДА И ГЛИЦЕРИНОВ...     False\n",
       "643   YUE ГЛИЦЕРИН СЫРОЙ ГЛИЦЕРИНОВАЯ: ВОДА И ГЛИЦЕР...     False\n",
       "748   КАТ.8.1,8.2 ПРОДУКЦИЯ ВОЕННОГО НАЗНАЧЕНИЯ СОГЛ...     False\n",
       "869   ГЛИЦЕРИНОВАЯ ВОДА С ЧИСТОТОЙ МЕНЕЕ 95% (В ПЕРЕ...      True\n",
       "977   ГЛИЦЕРИНОВАЯ ВОДА С ЧИСТОТОЙ МЕНЕЕ 95% (В ПЕРЕ...      True\n",
       "983   ГЛИЦЕРИН СЫРОЙ; ГЛИЦЕРИНОВАЯ ВОДА И ГЛИЦЕРИНОВ...     False\n",
       "1032  ГЛИЦЕРИН СЫРОЙ С ЧИСТОТОЙ 87%, ПРЕДНАЗНАЧЕН ДЛ...     False\n",
       "1068  ГЛИЦЕРИН НАТУРАЛЬНЫЙ СЫРОЙ, ПРЕДНАЗНАЧЕН ДЛЯ Р...     False\n",
       "1079  ГЛИЦЕРИН СЫРОЙ С ЧИСТОТОЙ 87%, ПРЕДНАЗНАЧЕН ДЛ...     False\n",
       "1187  ГЛИЦЕРИН НАТУРАЛЬНЫЙ СЫРОЙ, ПРЕДНАЗНАЧЕН ДЛЯ Р...     False"
      ]
     },
     "execution_count": 14,
     "metadata": {},
     "output_type": "execute_result"
    }
   ],
   "source": [
    "df[df['subtype'] == '1520000000_6'].loc[:, ['product_char_g311', 'lab_label']]"
   ]
  },
  {
   "cell_type": "code",
   "execution_count": 168,
   "id": "ccabc2e8",
   "metadata": {},
   "outputs": [],
   "source": [
    "df = df.drop(columns='Unnamed: 0')\n",
    "df.to_csv(dir + 'ProductData_2.csv', sep=';')"
   ]
  },
  {
   "cell_type": "markdown",
   "id": "58f70477",
   "metadata": {},
   "source": [
    "### New column with row counts of each subtype"
   ]
  },
  {
   "cell_type": "code",
   "execution_count": null,
   "id": "147426d2",
   "metadata": {},
   "outputs": [],
   "source": [
    "for s in df['subtype'].unique():\n",
    "    ind = df[df['subtype'] == s].index\n",
    "    df.loc[ind, 'rows_subtype'] = sum(df['subtype'] == s)"
   ]
  },
  {
   "cell_type": "markdown",
   "id": "a2c2ad9e",
   "metadata": {},
   "source": [
    "## Weights"
   ]
  },
  {
   "cell_type": "code",
   "execution_count": 173,
   "id": "4f262486",
   "metadata": {
    "scrolled": true
   },
   "outputs": [
    {
     "data": {
      "text/html": [
       "<div>\n",
       "<style scoped>\n",
       "    .dataframe tbody tr th:only-of-type {\n",
       "        vertical-align: middle;\n",
       "    }\n",
       "\n",
       "    .dataframe tbody tr th {\n",
       "        vertical-align: top;\n",
       "    }\n",
       "\n",
       "    .dataframe thead th {\n",
       "        text-align: right;\n",
       "    }\n",
       "</style>\n",
       "<table border=\"1\" class=\"dataframe\">\n",
       "  <thead>\n",
       "    <tr style=\"text-align: right;\">\n",
       "      <th></th>\n",
       "      <th>netto_g38</th>\n",
       "      <th>brutto_g35</th>\n",
       "    </tr>\n",
       "  </thead>\n",
       "  <tbody>\n",
       "  </tbody>\n",
       "</table>\n",
       "</div>"
      ],
      "text/plain": [
       "Empty DataFrame\n",
       "Columns: [netto_g38, brutto_g35]\n",
       "Index: []"
      ]
     },
     "execution_count": 173,
     "metadata": {},
     "output_type": "execute_result"
    }
   ],
   "source": [
    "df[df['netto_g38'] == 0].loc[:, ['netto_g38', 'brutto_g35']]"
   ]
  },
  {
   "cell_type": "code",
   "execution_count": 178,
   "id": "e7255927",
   "metadata": {},
   "outputs": [
    {
     "data": {
      "text/plain": [
       "False    28700\n",
       "True      5971\n",
       "Name: lab_label, dtype: int64"
      ]
     },
     "execution_count": 178,
     "metadata": {},
     "output_type": "execute_result"
    }
   ],
   "source": [
    "df['lab_label'].value_counts()"
   ]
  },
  {
   "cell_type": "markdown",
   "id": "c42bae68",
   "metadata": {},
   "source": [
    "# VED description"
   ]
  },
  {
   "cell_type": "code",
   "execution_count": 15,
   "id": "92d1343c",
   "metadata": {},
   "outputs": [],
   "source": [
    "dir = 'c:/Kotomin/StatWorks/6_Маркетинг/2023_06_analysis/TNVED/'\n",
    "file = '4.csv'"
   ]
  },
  {
   "cell_type": "code",
   "execution_count": 19,
   "id": "e29f9927",
   "metadata": {
    "scrolled": true
   },
   "outputs": [
    {
     "data": {
      "text/html": [
       "<div>\n",
       "<style scoped>\n",
       "    .dataframe tbody tr th:only-of-type {\n",
       "        vertical-align: middle;\n",
       "    }\n",
       "\n",
       "    .dataframe tbody tr th {\n",
       "        vertical-align: top;\n",
       "    }\n",
       "\n",
       "    .dataframe thead th {\n",
       "        text-align: right;\n",
       "    }\n",
       "</style>\n",
       "<table border=\"1\" class=\"dataframe\">\n",
       "  <thead>\n",
       "    <tr style=\"text-align: right;\">\n",
       "      <th></th>\n",
       "      <th>V1</th>\n",
       "      <th>V2</th>\n",
       "      <th>V3</th>\n",
       "      <th>Description</th>\n",
       "      <th>Date1</th>\n",
       "      <th>Date2</th>\n",
       "    </tr>\n",
       "  </thead>\n",
       "  <tbody>\n",
       "    <tr>\n",
       "      <th>0</th>\n",
       "      <td>01</td>\n",
       "      <td>01</td>\n",
       "      <td>109000</td>\n",
       "      <td>ПРОЧИЕ ЧИСТО?О?ОД?ЫЕ ?ЛЕМЕ??ЫЕ ОСЛЫ, МУЛЫ И ЛО...</td>\n",
       "      <td>01.01.2010</td>\n",
       "      <td>31.12.2011</td>\n",
       "    </tr>\n",
       "    <tr>\n",
       "      <th>1</th>\n",
       "      <td>01</td>\n",
       "      <td>01</td>\n",
       "      <td>210000</td>\n",
       "      <td>ЛОШАДИ ЖИВЫЕ: ЧИСТО?О?ОД?ЫЕ ?ЛЕМЕ??ЫЕ ЖИВОТ?ЫЕ</td>\n",
       "      <td>01.01.2012</td>\n",
       "      <td>22.08.2012</td>\n",
       "    </tr>\n",
       "    <tr>\n",
       "      <th>2</th>\n",
       "      <td>01</td>\n",
       "      <td>01</td>\n",
       "      <td>210000</td>\n",
       "      <td>ЛОШАДИ ЖИВЫЕ: ЧИСТО?О?ОД?ЫЕ ?ЛЕМЕ??ЫЕ ЖИВОТ?ЫЕ</td>\n",
       "      <td>23.08.2012</td>\n",
       "      <td>31.12.2016</td>\n",
       "    </tr>\n",
       "    <tr>\n",
       "      <th>3</th>\n",
       "      <td>01</td>\n",
       "      <td>01</td>\n",
       "      <td>210000</td>\n",
       "      <td>- - чистопородные племенные животные</td>\n",
       "      <td>01.01.2017</td>\n",
       "      <td>31.12.2021</td>\n",
       "    </tr>\n",
       "    <tr>\n",
       "      <th>4</th>\n",
       "      <td>01</td>\n",
       "      <td>01</td>\n",
       "      <td>210000</td>\n",
       "      <td>- - чистопородные племенные животные</td>\n",
       "      <td>01.01.2022</td>\n",
       "      <td>NaN</td>\n",
       "    </tr>\n",
       "    <tr>\n",
       "      <th>...</th>\n",
       "      <td>...</td>\n",
       "      <td>...</td>\n",
       "      <td>...</td>\n",
       "      <td>...</td>\n",
       "      <td>...</td>\n",
       "      <td>...</td>\n",
       "    </tr>\n",
       "    <tr>\n",
       "      <th>60808</th>\n",
       "      <td>83</td>\n",
       "      <td>11</td>\n",
       "      <td>900000</td>\n",
       "      <td>ПРОЧИЕ ??ОВОЛОКА, ??УТКИ, Т?У?Ы, ?ЛАСТИ?Ы, ?ЛЕ...</td>\n",
       "      <td>01.01.2010</td>\n",
       "      <td>31.12.2011</td>\n",
       "    </tr>\n",
       "    <tr>\n",
       "      <th>60809</th>\n",
       "      <td>83</td>\n",
       "      <td>11</td>\n",
       "      <td>900000</td>\n",
       "      <td>ПРОЧИЕ ??ОВОЛОКА, ??УТКИ, Т?У?Ы, ?ЛАСТИ?Ы, ?ЛЕ...</td>\n",
       "      <td>01.01.2012</td>\n",
       "      <td>22.08.2012</td>\n",
       "    </tr>\n",
       "    <tr>\n",
       "      <th>60810</th>\n",
       "      <td>83</td>\n",
       "      <td>11</td>\n",
       "      <td>900000</td>\n",
       "      <td>ПРОЧИЕ ??ОВОЛОКА, ??УТКИ, Т?У?Ы, ?ЛАСТИ?Ы, ?ЛЕ...</td>\n",
       "      <td>23.08.2012</td>\n",
       "      <td>31.12.2016</td>\n",
       "    </tr>\n",
       "    <tr>\n",
       "      <th>60811</th>\n",
       "      <td>83</td>\n",
       "      <td>11</td>\n",
       "      <td>900000</td>\n",
       "      <td>- прочие</td>\n",
       "      <td>01.01.2017</td>\n",
       "      <td>31.12.2021</td>\n",
       "    </tr>\n",
       "    <tr>\n",
       "      <th>60812</th>\n",
       "      <td>83</td>\n",
       "      <td>11</td>\n",
       "      <td>900000</td>\n",
       "      <td>- прочие</td>\n",
       "      <td>01.01.2022</td>\n",
       "      <td>NaN</td>\n",
       "    </tr>\n",
       "  </tbody>\n",
       "</table>\n",
       "<p>60813 rows × 6 columns</p>\n",
       "</div>"
      ],
      "text/plain": [
       "       V1  V2      V3                                        Description  \\\n",
       "0      01  01  109000  ПРОЧИЕ ЧИСТО?О?ОД?ЫЕ ?ЛЕМЕ??ЫЕ ОСЛЫ, МУЛЫ И ЛО...   \n",
       "1      01  01  210000     ЛОШАДИ ЖИВЫЕ: ЧИСТО?О?ОД?ЫЕ ?ЛЕМЕ??ЫЕ ЖИВОТ?ЫЕ   \n",
       "2      01  01  210000     ЛОШАДИ ЖИВЫЕ: ЧИСТО?О?ОД?ЫЕ ?ЛЕМЕ??ЫЕ ЖИВОТ?ЫЕ   \n",
       "3      01  01  210000               - - чистопородные племенные животные   \n",
       "4      01  01  210000               - - чистопородные племенные животные   \n",
       "...    ..  ..     ...                                                ...   \n",
       "60808  83  11  900000  ПРОЧИЕ ??ОВОЛОКА, ??УТКИ, Т?У?Ы, ?ЛАСТИ?Ы, ?ЛЕ...   \n",
       "60809  83  11  900000  ПРОЧИЕ ??ОВОЛОКА, ??УТКИ, Т?У?Ы, ?ЛАСТИ?Ы, ?ЛЕ...   \n",
       "60810  83  11  900000  ПРОЧИЕ ??ОВОЛОКА, ??УТКИ, Т?У?Ы, ?ЛАСТИ?Ы, ?ЛЕ...   \n",
       "60811  83  11  900000                                           - прочие   \n",
       "60812  83  11  900000                                           - прочие   \n",
       "\n",
       "            Date1       Date2  \n",
       "0      01.01.2010  31.12.2011  \n",
       "1      01.01.2012  22.08.2012  \n",
       "2      23.08.2012  31.12.2016  \n",
       "3      01.01.2017  31.12.2021  \n",
       "4      01.01.2022         NaN  \n",
       "...           ...         ...  \n",
       "60808  01.01.2010  31.12.2011  \n",
       "60809  01.01.2012  22.08.2012  \n",
       "60810  23.08.2012  31.12.2016  \n",
       "60811  01.01.2017  31.12.2021  \n",
       "60812  01.01.2022         NaN  \n",
       "\n",
       "[60813 rows x 6 columns]"
      ]
     },
     "execution_count": 19,
     "metadata": {},
     "output_type": "execute_result"
    }
   ],
   "source": [
    "ved_df = pd.read_csv(dir + file, dtype=str, sep='|', index_col=False)\n",
    "ved_df"
   ]
  },
  {
   "cell_type": "code",
   "execution_count": 21,
   "id": "5e75dc86",
   "metadata": {
    "scrolled": true
   },
   "outputs": [
    {
     "data": {
      "text/plain": [
       "array(['0101109000', '0101210000', '0101291000', ..., '8311200000',\n",
       "       '8311300000', '8311900000'], dtype=object)"
      ]
     },
     "execution_count": 21,
     "metadata": {},
     "output_type": "execute_result"
    }
   ],
   "source": [
    "ved_df.loc[:, 'ved'] = ved_df['V1'] + ved_df['V2'] + ved_df['V3']\n",
    "ved_df['ved'].unique()"
   ]
  },
  {
   "cell_type": "code",
   "execution_count": 73,
   "id": "9bcbc3d8",
   "metadata": {
    "scrolled": true
   },
   "outputs": [
    {
     "data": {
      "text/plain": [
       "['2905392500', '2930909508', '1520000000', '2710193500']"
      ]
     },
     "execution_count": 73,
     "metadata": {},
     "output_type": "execute_result"
    }
   ],
   "source": [
    "ved = [v for v in ved]\n",
    "ved[0:4]"
   ]
  },
  {
   "cell_type": "code",
   "execution_count": 75,
   "id": "dd09e781",
   "metadata": {
    "scrolled": false
   },
   "outputs": [],
   "source": [
    "ved_df = ved_df[ved_df['ved'].isin(ved)].loc[:, ['ved', 'Description']].reset_index(drop=True)"
   ]
  },
  {
   "cell_type": "code",
   "execution_count": 164,
   "id": "4d6a871b",
   "metadata": {},
   "outputs": [
    {
     "data": {
      "text/html": [
       "<div>\n",
       "<style scoped>\n",
       "    .dataframe tbody tr th:only-of-type {\n",
       "        vertical-align: middle;\n",
       "    }\n",
       "\n",
       "    .dataframe tbody tr th {\n",
       "        vertical-align: top;\n",
       "    }\n",
       "\n",
       "    .dataframe thead th {\n",
       "        text-align: right;\n",
       "    }\n",
       "</style>\n",
       "<table border=\"1\" class=\"dataframe\">\n",
       "  <thead>\n",
       "    <tr style=\"text-align: right;\">\n",
       "      <th></th>\n",
       "      <th>ved</th>\n",
       "      <th>description</th>\n",
       "    </tr>\n",
       "  </thead>\n",
       "  <tbody>\n",
       "    <tr>\n",
       "      <th>0</th>\n",
       "      <td>2905392500</td>\n",
       "      <td>- - - бутан-1,4-диол</td>\n",
       "    </tr>\n",
       "    <tr>\n",
       "      <th>1</th>\n",
       "      <td>2930909508</td>\n",
       "      <td>- - - прочие</td>\n",
       "    </tr>\n",
       "    <tr>\n",
       "      <th>2</th>\n",
       "      <td>1520000000</td>\n",
       "      <td>глицерин сырой; глицериновая вода и глицеринов...</td>\n",
       "    </tr>\n",
       "    <tr>\n",
       "      <th>3</th>\n",
       "      <td>2710193500</td>\n",
       "      <td>- - - - - для химических превращений в процесс...</td>\n",
       "    </tr>\n",
       "    <tr>\n",
       "      <th>4</th>\n",
       "      <td>2503001000</td>\n",
       "      <td>- сера сырая или нерафинированная</td>\n",
       "    </tr>\n",
       "    <tr>\n",
       "      <th>5</th>\n",
       "      <td>2901290000</td>\n",
       "      <td>углеводо?оды ациклические, ?е?асыще??ые, прочие</td>\n",
       "    </tr>\n",
       "    <tr>\n",
       "      <th>6</th>\n",
       "      <td>2909498009</td>\n",
       "      <td>- - - - прочие</td>\n",
       "    </tr>\n",
       "    <tr>\n",
       "      <th>7</th>\n",
       "      <td>2933790000</td>\n",
       "      <td>лактамы прочие</td>\n",
       "    </tr>\n",
       "  </tbody>\n",
       "</table>\n",
       "</div>"
      ],
      "text/plain": [
       "          ved                                        description\n",
       "0  2905392500                               - - - бутан-1,4-диол\n",
       "1  2930909508                                       - - - прочие\n",
       "2  1520000000  глицерин сырой; глицериновая вода и глицеринов...\n",
       "3  2710193500  - - - - - для химических превращений в процесс...\n",
       "4  2503001000                  - сера сырая или нерафинированная\n",
       "5  2901290000    углеводо?оды ациклические, ?е?асыще??ые, прочие\n",
       "6  2909498009                                     - - - - прочие\n",
       "7  2933790000                                     лактамы прочие"
      ]
     },
     "execution_count": 164,
     "metadata": {},
     "output_type": "execute_result"
    }
   ],
   "source": [
    "# New empty dataframe\n",
    "filt_df = pd.DataFrame(columns=['ved', 'Description'])\n",
    "\n",
    "# Copy filtered strings to new df\n",
    "for i in range(len(ved)):\n",
    "    \n",
    "    # filter block of strings of particular ved\n",
    "    v = ved[i]\n",
    "    filtered = ved_df[ved_df['ved'] == v]\n",
    "    \n",
    "    s = filtered.index[-1]  # choose last string in the block\n",
    "    \n",
    "    # check if desctiption include undesirable values\n",
    "    for _ in ['прочая', 'прочие']:\n",
    "        if _ in filtered.loc[s, 'Description']:\n",
    "            s = filtered.index[0]  # change to first string in the block\n",
    "            break\n",
    "    \n",
    "    # filter with choosen string number and add to new df\n",
    "    filtered = filtered[filtered.index == s]\n",
    "    filt_df = pd.concat([filt_df, filtered], axis=0)\n",
    "\n",
    "filt_df.rename(columns = {'Description': 'description'}, inplace=True)\n",
    "filt_df.description = filt_df.description.str.lower()\n",
    "filt_df = filt_df.reset_index(drop=True)\n",
    "filt_df.head(8)"
   ]
  },
  {
   "cell_type": "code",
   "execution_count": 175,
   "id": "d3cb73dc",
   "metadata": {},
   "outputs": [],
   "source": [
    "filt_df.to_csv(dir + 'Descriptions.csv', sep='|')"
   ]
  },
  {
   "cell_type": "code",
   "execution_count": null,
   "id": "f9040499",
   "metadata": {},
   "outputs": [],
   "source": []
  }
 ],
 "metadata": {
  "kernelspec": {
   "display_name": "Python 3 (ipykernel)",
   "language": "python",
   "name": "python3"
  },
  "language_info": {
   "codemirror_mode": {
    "name": "ipython",
    "version": 3
   },
   "file_extension": ".py",
   "mimetype": "text/x-python",
   "name": "python",
   "nbconvert_exporter": "python",
   "pygments_lexer": "ipython3",
   "version": "3.8.8"
  }
 },
 "nbformat": 4,
 "nbformat_minor": 5
}

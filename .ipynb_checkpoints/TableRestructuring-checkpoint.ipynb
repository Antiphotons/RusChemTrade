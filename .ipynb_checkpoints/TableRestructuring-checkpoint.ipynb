{
 "cells": [
  {
   "cell_type": "code",
   "execution_count": 1,
   "id": "20c579f4",
   "metadata": {},
   "outputs": [],
   "source": [
    "import pandas as pd\n",
    "import numpy as np"
   ]
  },
  {
   "cell_type": "markdown",
   "id": "a24ca1a0",
   "metadata": {},
   "source": [
    "# Initial steps"
   ]
  },
  {
   "cell_type": "markdown",
   "id": "4e31ccb3",
   "metadata": {},
   "source": [
    "## Working directory and table"
   ]
  },
  {
   "cell_type": "code",
   "execution_count": 2,
   "id": "45615704",
   "metadata": {},
   "outputs": [],
   "source": [
    "dir = 'c:/Kotomin/StatWorks/6_Маркетинг/2023_06_analysis/'\n",
    "file = \"Database.csv\""
   ]
  },
  {
   "cell_type": "markdown",
   "id": "378895cd",
   "metadata": {},
   "source": [
    "## Load the dataframe"
   ]
  },
  {
   "cell_type": "code",
   "execution_count": 3,
   "id": "67d5a230",
   "metadata": {},
   "outputs": [],
   "source": [
    "df = pd.read_csv(dir + file, dtype=str, sep=';')"
   ]
  },
  {
   "cell_type": "code",
   "execution_count": 4,
   "id": "96a767e7",
   "metadata": {
    "scrolled": true
   },
   "outputs": [
    {
     "data": {
      "text/plain": [
       "['Unnamed: 0',\n",
       " 'ND (Номер декларации)',\n",
       " 'STAT (STAT)',\n",
       " 'G071 (код таможни)',\n",
       " 'G072 (Дата регистрации)',\n",
       " 'G073 (Номер бланка)',\n",
       " 'GD1 (Дата выпуска)',\n",
       " 'G011 (Направление перемещения)',\n",
       " 'G0121 (Таможенный режим)',\n",
       " 'G021 (ИНН отправителя)',\n",
       " 'G022 (Наименование отправителя)',\n",
       " 'G023 (Адрес отправителя)',\n",
       " 'G0231 (Код страны отправителя)',\n",
       " 'G032 (Кол-во ТД1/2 или ТД3/4)',\n",
       " 'G04 (общее кол-во листов спецификаций)',\n",
       " 'G05 (Всего наименований товаров)',\n",
       " 'G06 (Кол-во мест)',\n",
       " 'G07 (Тип ГТД)',\n",
       " 'G081 (ИНН получателя)',\n",
       " 'G082 (Наименование получателя)',\n",
       " 'G0831 (Код страны получателя)',\n",
       " 'G083 (Адрес получателя)',\n",
       " 'G091 (ИНН контрактодержателя)',\n",
       " 'G092 (Наименование контрактодержателя)',\n",
       " 'G0931 (Код страны контрактодержателя)',\n",
       " 'G093 (Адрес контрактодержателя)',\n",
       " 'G11 (Код торгующей страны)',\n",
       " 'G12 (Общая таможенная стоимость по ГТД)',\n",
       " 'G141 (ИНН декларанта)',\n",
       " 'G142 (Наименование декларанта)',\n",
       " 'G1431 (Код страны нахождения декларанта)',\n",
       " 'G143 (Адрес декларанта)',\n",
       " 'G15 (Страна отправления)',\n",
       " 'G15A (Код страны отправления)',\n",
       " 'G16 (Страна происхождения)',\n",
       " 'G17A (Код страны назначения)',\n",
       " 'G17B (Страна назначения)',\n",
       " 'G18 (кол-во транспортных средств)',\n",
       " 'G19 (Признак контейнерных перевозок)',\n",
       " 'G202 (Условие поставки)',\n",
       " 'G2021 (Пункт поставки товара)',\n",
       " 'G21 (кол-во транспортных средств на границе)',\n",
       " 'G221 (Букв.код валюты контракта)',\n",
       " 'G222 (Общая фактурная стоимость по ГТД)',\n",
       " 'G23 (Курс валюты)',\n",
       " 'G230 (Дата курса валюты)',\n",
       " 'G24 (характер сделки)',\n",
       " 'G281 (Банковские реквизиты)',\n",
       " 'G300 (Тип информации)',\n",
       " 'G3010 (Тип документа)',\n",
       " 'G301 (Свидетельство СВХ)',\n",
       " 'G30 (Название станции/склада)',\n",
       " 'G30SUBD (Район склада)',\n",
       " 'G30CITY (Город склада)',\n",
       " 'G30STREET (Улица склада)',\n",
       " 'G3012 (Код там. органа)',\n",
       " 'G541 (Номер свидетельства брокера)',\n",
       " 'G541D (Дата свидетельства брокера)',\n",
       " 'G541_NAM (Наименование брокера)',\n",
       " 'G541_INN (ИНН брокера)',\n",
       " 'G541_ADR (Адрес и контакты брокера)',\n",
       " 'G5411 (Номер договора брокера с декларантом)',\n",
       " 'G5411D (Дата договора брокера с декларантом)',\n",
       " 'G5441 (ФИО заполнителя)',\n",
       " 'G31_1 (Наименование и характеристики товаров)',\n",
       " 'G31_11 (Фирма-изготовитель)',\n",
       " 'G31_12 (Товарный знак, патент)',\n",
       " 'G31_13 (Страна происхождения)',\n",
       " 'G31_2 (Кол-во грузовых мест)',\n",
       " 'G31_3 (Кол-во контейнеров)',\n",
       " 'G31_7 (Кол-во товара в доп.ед.)',\n",
       " 'G31_71 (Наименование доп.ед.)',\n",
       " 'G31_8 (Кол-во товара во второй ед.изм.)',\n",
       " 'G31_81 (Наименование второй ед.изм.)',\n",
       " 'G31_82 (Код второй ед.изм.)',\n",
       " 'G32 (Номер товара по ГТД)',\n",
       " 'G33 (Код товара по ТН ВЭД)',\n",
       " 'G34 (Код страны происхождения)',\n",
       " 'G35 (Вес брутто, кг)',\n",
       " 'G36 (Преференции, особ.уплаты)',\n",
       " 'G37 (Процедура)',\n",
       " 'G38 (Вес нетто, кг)',\n",
       " 'G39 (Квота)',\n",
       " 'G41A (Код доп.ед.изм.)',\n",
       " 'G42 (Фактурная стоимость)',\n",
       " 'G42RUB (Фактурная стоимость в рублях)',\n",
       " 'G43 (Признак КТС)',\n",
       " 'G430 (Метод определения ТС)',\n",
       " 'G45 (Таможенная стоимость)',\n",
       " 'G46 (Статистическая стоимость, USD.)',\n",
       " 'GD0 (Код завершения таможенного оформления)',\n",
       " 'GD2 (ЛНП долж.лица)',\n",
       " 'USDKG (USD за КГ)',\n",
       " 'FIRM (Доп.информация о контрактодержателе (Росстат))',\n",
       " 'Unnamed: 93',\n",
       " 'G020 (ОГРН отправителя)',\n",
       " 'G027 (КПП отправителя)',\n",
       " 'G024B (Код ОКАТО отправителя)',\n",
       " 'G080 (ОГРН получателя)',\n",
       " 'G087 (КПП получателя)',\n",
       " 'G084B (Код ОКАТО получателя)',\n",
       " 'G090 (ОГРН контрактодержателя)',\n",
       " 'G097 (КПП контрактодержателя)',\n",
       " 'G094B (Код ОКАТО контрактодержателя)',\n",
       " 'G140 (ОГРН декларанта)',\n",
       " 'G144B (Код ОКАТО декларанта)',\n",
       " 'Unnamed: 104',\n",
       " 'month',\n",
       " 'contr',\n",
       " 'Unnamed: 106',\n",
       " 'Unnamed: 107',\n",
       " 'Unnamed: 108',\n",
       " 'Unnamed: 109',\n",
       " 'Unnamed: 110',\n",
       " 'Unnamed: 111',\n",
       " 'Unnamed: 112',\n",
       " 'Unnamed: 113',\n",
       " 'Unnamed: 114',\n",
       " 'Unnamed: 115',\n",
       " 'G210 (резерв)',\n",
       " 'month bor',\n",
       " 'TTN (Номер ТТН)',\n",
       " 'TTN_DATE (Дата ТТН)',\n",
       " 'TNN (ТНН)',\n",
       " 'VIDTRANST (Код транспорта)',\n",
       " 'VIDTRANS_NAME (Вид транспорта)',\n",
       " 'NTRANST (Номер транс.средства)',\n",
       " 'G29T (Код таможни на границе)',\n",
       " 'G29_NAME (Таможня на границе)',\n",
       " 'TC_NAME (Перевозчик)',\n",
       " 'TC_ADR (Адрес перевозчика)',\n",
       " 'TC_COUNTRY (Страна перевозчика)',\n",
       " 'Short',\n",
       " 'CAS',\n",
       " 'producer',\n",
       " 'Contr',\n",
       " 'per place 0',\n",
       " 'per place 1',\n",
       " 'Unnamed: 105',\n",
       " 'Month',\n",
       " 'short',\n",
       " 'Спpавочный номер ГТД',\n",
       " 'Код поста',\n",
       " 'Неделя',\n",
       " 'Дата подачи ГТД',\n",
       " 'Порядковый номер ГТД',\n",
       " 'Направление перемещения товара',\n",
       " 'Код основного таможенного режима',\n",
       " 'Дополнительный признак',\n",
       " 'Код решения',\n",
       " 'Дата выпуска груза',\n",
       " 'ЛНП выпускающего инспектора',\n",
       " 'ИНН отправителя',\n",
       " 'Наименование отправителя',\n",
       " 'Почтовый адрес отправителя',\n",
       " 'Код СОАТО отправителя',\n",
       " 'Код ИНН недроппользователя',\n",
       " 'Код ОКПО недропользователя',\n",
       " 'КПП отправителя',\n",
       " 'Порядковый номер листа',\n",
       " 'Общее количество листов в ГТД',\n",
       " 'Общее кол-во листов спецификации',\n",
       " 'Всего наименований товаров',\n",
       " 'Количество мест',\n",
       " 'ИНН получателя',\n",
       " 'Наименование получателя',\n",
       " 'Почтовый адрес получателя',\n",
       " 'Код СОАТО получателя',\n",
       " 'КПП получателя',\n",
       " 'ИНН лица, ответствен. за фин. урегулирование',\n",
       " 'Наименование лица, ответственного за фин. урегулирование',\n",
       " 'Адрес лица ответственного за фин. урегулирование',\n",
       " 'СОАТО лица, ответственного за фин. урегулирование',\n",
       " 'КПП лица, ответственного за фин. урегулирование',\n",
       " 'Код торгующей страны',\n",
       " 'Общая таможенная стоимость',\n",
       " 'Код валюты таможенной стоимости',\n",
       " 'ИНН декларанта',\n",
       " 'Наименование декларанта',\n",
       " 'Почтовый адрес декларанта',\n",
       " 'Код СОАТО декларанта',\n",
       " 'КПП декларанта',\n",
       " 'Страна отправления',\n",
       " 'Код страны отправления',\n",
       " 'Страна происхождения',\n",
       " 'Код страны назначения',\n",
       " 'Страна назначения',\n",
       " 'Признак контейнерных перевозок',\n",
       " 'Краткий буквенный код условия поставки',\n",
       " 'Пункт поставки товара',\n",
       " 'Теплоход и дата прибытия',\n",
       " 'Код валюты контракта',\n",
       " 'Общая фактурная стоим. товаров',\n",
       " 'Курс валюты',\n",
       " 'Характер сделки',\n",
       " 'СВХ',\n",
       " 'Краткое наименование банка обслуживающего сделку',\n",
       " 'Номер АТД',\n",
       " 'Описание и характер.товара',\n",
       " 'Наименование фирмы изготовителя',\n",
       " 'Товарный знак, место происхожжения, объект авторского права и т.д.',\n",
       " 'Количество мест товаров',\n",
       " 'Вид грузовых мест и маркировки товара',\n",
       " 'Кол-во контейнеров для товара',\n",
       " '№ серии марок акцизного сбора',\n",
       " 'Кол-во марок акцизного сбора',\n",
       " 'Кол-во товара (в дополнительной единице измерения)',\n",
       " 'Наименование дополнительной единицы измерения',\n",
       " 'Кол-во в единицах физического объема',\n",
       " 'Наименование единиц физического объема',\n",
       " 'Код единицы измерения физического объема',\n",
       " 'Номер товара по ГТД/списку',\n",
       " 'Код товара по ТН ВЭД СНГ',\n",
       " 'Дополнительный признак нетарифного регулирования',\n",
       " 'Код страны происхождения',\n",
       " 'Вес брутто (кг)',\n",
       " 'Преференции, особенности уплаты платежей',\n",
       " 'Процедура',\n",
       " 'Вес нетто (кг)',\n",
       " 'Вес нетто (т)',\n",
       " 'Код валюты квоты',\n",
       " 'Код единицы измерения квоты',\n",
       " 'Наименование валюты/единицы измерения квоты',\n",
       " 'Код дополнительной единицы измерения',\n",
       " 'Фактурная стоимость',\n",
       " 'Признак корректировки таможенной стоимости',\n",
       " 'Метод определения таможенной стоимости',\n",
       " 'Таможенная стоимость товара',\n",
       " 'Статистическая стоимость товара',\n",
       " 'Место оформления ГТД',\n",
       " 'ИНН брокера',\n",
       " 'ФИО декларанта',\n",
       " 'Рабочий телефон декларанта',\n",
       " 'Наименование док-та, подтв. полномочия декларанта',\n",
       " 'Номер документа, подтв. полномочия декларанта',\n",
       " 'Дата док-та, подтв. полномочия декларанта',\n",
       " 'Дата окончания полномочий декларанта',\n",
       " 'Должность работника декларанта',\n",
       " 'Код вида документа, удостоверяющего личность',\n",
       " 'Сокращённое наименование документа, удостоверяющего личность',\n",
       " 'Серия док-та удостовер. личность декларанта',\n",
       " 'Номер док-та удостовер. личность декларанта',\n",
       " 'Кем выдан документ удостовер. личность декларанта',\n",
       " 'Дата документа, удостоверяющего личность',\n",
       " 'Грузовые единицы',\n",
       " 'Кол-во контейнеров для ГТД',\n",
       " 'Фактурная стоимость за доп. единицу',\n",
       " 'Фактурная стоимость за кг',\n",
       " 'Учетный номер бланка (ТД-1,2)',\n",
       " 'Отношение нетто/брутто',\n",
       " 'Стат стоимость за доп. единицу',\n",
       " 'Статистическая стоимость за кг',\n",
       " 'Код таможни на границе',\n",
       " 'Признак учета',\n",
       " 'Таможенные пошлины и сборы (RUB)',\n",
       " 'Таможенные пошлины и сборы (USD)',\n",
       " 'Unnamed: 116',\n",
       " 'Unnamed: 117',\n",
       " 'Unnamed: 118',\n",
       " 'Unnamed: 119',\n",
       " 'Спpавочный номеp ГТД',\n",
       " 'Ронголит',\n",
       " 'Столбец1',\n",
       " 'Столбец2',\n",
       " 'Столбец3',\n",
       " 'Квота',\n",
       " 'CoPr',\n",
       " 'prod',\n",
       " 'cas',\n",
       " 'Hydroxyl value',\n",
       " 'conc',\n",
       " 'Unnamed: 101',\n",
       " 'Номер',\n",
       " 'Номер груза',\n",
       " 'кр_название (контрактодержатель)',\n",
       " 'адрес (контрактодержатель)',\n",
       " 'название (пол/отпр)',\n",
       " 'адрес (пол/отпр)',\n",
       " 'Название (инофирма)',\n",
       " 'Адрес (инофирма)',\n",
       " 'Сумма(USD)',\n",
       " 'Код (ГНГ)',\n",
       " 'Текст главы ГНГ',\n",
       " 'Описание груза',\n",
       " 'Месяц',\n",
       " 'Условия поставки',\n",
       " 'Customs_Txt',\n",
       " 'Country_Txt',\n",
       " 'BName',\n",
       " 'BRegN',\n",
       " 'G42',\n",
       " 'G38',\n",
       " 'Поле86',\n",
       " 'G0131',\n",
       " 'Producer',\n",
       " 'Net',\n",
       " 'price',\n",
       " 'KDT_TYPE (Информация о КДТ)',\n",
       " 'MT',\n",
       " 'cont',\n",
       " 'Pack',\n",
       " 'CONTR',\n",
       " 'поставщик',\n",
       " 'пункт поставки',\n",
       " 'цена',\n",
       " 'G121 (Код валюты там. стоимости)',\n",
       " 'G180 (резерв)',\n",
       " 'G5442 (Телефон заполнителя)',\n",
       " 'G5447 (Должность заполнителя)',\n",
       " 'TEXT1 (Оборотная сторона ГТД)',\n",
       " 'TOVG (Информация о товаре из \"Приложений\")',\n",
       " 'G31_20 (Код наличия упаковки)',\n",
       " 'G31_9 (Кол-во товара в третьей ед.изм.)',\n",
       " 'G31_91 (Наим. третьей ед.изм.)',\n",
       " 'G31_92 (Код третьей ед.изм.)',\n",
       " 'G474DOL (Сумма по гр.47 в USD)',\n",
       " 'G474RUB (Сумма по гр.47 в RUR)',\n",
       " 'VID_KTC (наличие КТС)',\n",
       " 'G25 (Вид транспорта на границе)',\n",
       " 'G26 (Вид транспорта внутри страны)',\n",
       " 'G29 (Код таможни на границе)',\n",
       " 'NTRANSS (Номера транс.средств)',\n",
       " 'CONTAINERS (Номера контейнеров)',\n",
       " 'Недея',\n",
       " 'year']"
      ]
     },
     "execution_count": 4,
     "metadata": {},
     "output_type": "execute_result"
    }
   ],
   "source": [
    "df.columns.tolist()"
   ]
  },
  {
   "cell_type": "code",
   "execution_count": 5,
   "id": "2fd423fc",
   "metadata": {},
   "outputs": [
    {
     "data": {
      "text/plain": [
       "(114746, 325)"
      ]
     },
     "execution_count": 5,
     "metadata": {},
     "output_type": "execute_result"
    }
   ],
   "source": [
    "df.shape"
   ]
  },
  {
   "cell_type": "markdown",
   "id": "e737950b",
   "metadata": {},
   "source": [
    "# Preprocessing"
   ]
  },
  {
   "cell_type": "markdown",
   "id": "a46a98bc",
   "metadata": {},
   "source": [
    "## Separate table subtypes"
   ]
  },
  {
   "cell_type": "markdown",
   "id": "7a91a3f0",
   "metadata": {},
   "source": [
    "### From this column new subtype of table starts"
   ]
  },
  {
   "cell_type": "code",
   "execution_count": 7,
   "id": "ed266255",
   "metadata": {},
   "outputs": [],
   "source": [
    "st_col_2 = 'Спpавочный номер ГТД'  # start column for type 2\n",
    "st_col_2_i = df.columns.get_loc(st_col_2)  # index of start column"
   ]
  },
  {
   "cell_type": "markdown",
   "id": "f36cd790",
   "metadata": {},
   "source": [
    "### Type 2 (with Russian titles)"
   ]
  },
  {
   "cell_type": "code",
   "execution_count": 8,
   "id": "c800e188",
   "metadata": {},
   "outputs": [],
   "source": [
    "second_df = df[~df[st_col_2].isna()]  # filter only rows from type 2 table\n",
    "second_df = second_df.iloc[:, st_col_2_i:]  # filter only columns of type 2 table"
   ]
  },
  {
   "cell_type": "markdown",
   "id": "34b29165",
   "metadata": {},
   "source": [
    "### Original column names with 'ГТД' codes"
   ]
  },
  {
   "cell_type": "code",
   "execution_count": 65,
   "id": "cd7b57b4",
   "metadata": {},
   "outputs": [],
   "source": [
    "st_col_1 = 'ND (Номер декларации)'  # column critical for identification of cases for type 1\n",
    "first_df = df[~df[st_col_1].isna()] # filter only rows from type 1 table\n",
    "first_df = first_df.iloc[:, :st_col_2_i]  # filter only columns of type 1 table"
   ]
  },
  {
   "cell_type": "code",
   "execution_count": 66,
   "id": "e6016ef7",
   "metadata": {
    "scrolled": true
   },
   "outputs": [
    {
     "data": {
      "text/plain": [
       "(105946, 141)"
      ]
     },
     "execution_count": 66,
     "metadata": {},
     "output_type": "execute_result"
    }
   ],
   "source": [
    "first_df = first_df.reset_index(drop=True)\n",
    "first_df.shape"
   ]
  },
  {
   "cell_type": "markdown",
   "id": "84437e21",
   "metadata": {},
   "source": [
    "#### Fix the discrepancy of \"G021\" column"
   ]
  },
  {
   "cell_type": "code",
   "execution_count": 67,
   "id": "35cd7e3c",
   "metadata": {},
   "outputs": [
    {
     "data": {
      "text/plain": [
       "Int64Index([42783, 69495, 96207], dtype='int64')"
      ]
     },
     "execution_count": 67,
     "metadata": {},
     "output_type": "execute_result"
    }
   ],
   "source": [
    "start_index = first_df[first_df['G021 (ИНН отправителя)'] == 'YUSEN LOGISTIC (CHINA) CO.,LTD.'].index\n",
    "start_index"
   ]
  },
  {
   "cell_type": "code",
   "execution_count": 68,
   "id": "be1345be",
   "metadata": {
    "scrolled": false
   },
   "outputs": [
    {
     "data": {
      "text/plain": [
       "Int64Index([43804, 70516, 97228], dtype='int64')"
      ]
     },
     "execution_count": 68,
     "metadata": {},
     "output_type": "execute_result"
    }
   ],
   "source": [
    "end_index = first_df[first_df['G021 (ИНН отправителя)'] == 'SHANDONG BAIRUI FINE CHEMICAL CO., LIMITED.'].index\n",
    "end_index"
   ]
  },
  {
   "cell_type": "markdown",
   "id": "53c26cde",
   "metadata": {},
   "source": [
    "The trouble presented in cases: 48665 - 49686, 76446 - 77467, 104227 - 105248: errors in declaration.\n",
    "\n",
    "File \"2905320000 ПЭГ 2019-2020 20211022_0940-tdalenka-main2019\". \n",
    "\n",
    "Manual correction is needed"
   ]
  },
  {
   "cell_type": "code",
   "execution_count": 16,
   "id": "6bb12509",
   "metadata": {},
   "outputs": [],
   "source": [
    "fix_dir = 'c:/Kotomin/StatWorks/6_Маркетинг/2023_06_analysis/2/'\n",
    "fix_df = pd.read_excel(fix_dir + '2905320000 ПЭГ 2019-2020 20211022_0940-tdalenka-main2019_repaired' + '.xlsx', dtype=str)"
   ]
  },
  {
   "cell_type": "code",
   "execution_count": 69,
   "id": "25d37e1c",
   "metadata": {
    "scrolled": true
   },
   "outputs": [
    {
     "data": {
      "text/plain": [
       "(102880, 141)"
      ]
     },
     "execution_count": 69,
     "metadata": {},
     "output_type": "execute_result"
    }
   ],
   "source": [
    "for i in range(3):\n",
    "    first_df = first_df.drop(axis=0, index = [j for j in range(start_index[i], end_index[i] + 1)])\n",
    "first_df = first_df.reset_index(drop=True)\n",
    "first_df.shape"
   ]
  },
  {
   "cell_type": "code",
   "execution_count": 70,
   "id": "96984db2",
   "metadata": {
    "scrolled": true
   },
   "outputs": [
    {
     "data": {
      "text/plain": [
       "(103902, 142)"
      ]
     },
     "execution_count": 70,
     "metadata": {},
     "output_type": "execute_result"
    }
   ],
   "source": [
    "first_df = pd.concat([first_df, fix_df])\n",
    "first_df = first_df.reset_index(drop=True)\n",
    "first_df.shape"
   ]
  },
  {
   "cell_type": "markdown",
   "id": "9ca70f91",
   "metadata": {},
   "source": [
    "## Duplicates"
   ]
  },
  {
   "cell_type": "code",
   "execution_count": 128,
   "id": "e24cd5f6",
   "metadata": {},
   "outputs": [],
   "source": [
    "for gtd in first_df['ND (Номер декларации)'].unique():\n",
    "    for ved in first_df[first_df['ND (Номер декларации)'] == gtd]['G33 (Код товара по ТН ВЭД)'].unique():\n",
    "        for cost in first_df[(first_df['ND (Номер декларации)'] == gtd) & (first_df['G33 (Код товара по ТН ВЭД)'] == ved)]['G42 (Фактурная стоимость)'].unique():\n",
    "            indexes = first_df[(first_df['ND (Номер декларации)'] == gtd) & (first_df['G33 (Код товара по ТН ВЭД)'] == ved) & (first_df['G42 (Фактурная стоимость)'] == cost)].index\n",
    "            for ind in indexes[1:]:\n",
    "                first_df = first_df.drop(index=ind)"
   ]
  },
  {
   "cell_type": "code",
   "execution_count": 129,
   "id": "1266d08d",
   "metadata": {},
   "outputs": [
    {
     "data": {
      "text/plain": [
       "(35083, 142)"
      ]
     },
     "execution_count": 129,
     "metadata": {},
     "output_type": "execute_result"
    }
   ],
   "source": [
    "first_df.shape"
   ]
  },
  {
   "cell_type": "code",
   "execution_count": 141,
   "id": "b5c8e1ad",
   "metadata": {},
   "outputs": [],
   "source": [
    "first_df = first_df.reset_index(drop=True)"
   ]
  },
  {
   "cell_type": "code",
   "execution_count": 134,
   "id": "d2c31ccf",
   "metadata": {},
   "outputs": [
    {
     "data": {
      "text/plain": [
       "10013090/200721/0002862    66\n",
       "10013090/220621/0002486    63\n",
       "10013090/170521/0001951    57\n",
       "10013090/290721/0002976    48\n",
       "10013090/080921/0003525    45\n",
       "                           ..\n",
       "10323010/180321/0043792     1\n",
       "10228010/180321/0111065     1\n",
       "10323010/180321/0044481     1\n",
       "10323010/170321/0043554     1\n",
       "10216170/101121/0335895     1\n",
       "Name: ND (Номер декларации), Length: 29997, dtype: int64"
      ]
     },
     "execution_count": 134,
     "metadata": {},
     "output_type": "execute_result"
    }
   ],
   "source": [
    "first_df['ND (Номер декларации)'].value_counts()"
   ]
  },
  {
   "cell_type": "code",
   "execution_count": 131,
   "id": "046fd066",
   "metadata": {},
   "outputs": [
    {
     "data": {
      "text/plain": [
       "2930909509    24\n",
       "2924190009    10\n",
       "2902900000     8\n",
       "2833298000     6\n",
       "2901290000     5\n",
       "2825100000     3\n",
       "2909199000     3\n",
       "2909498009     3\n",
       "2909430009     2\n",
       "2905170000     1\n",
       "2905320000     1\n",
       "Name: G33 (Код товара по ТН ВЭД), dtype: int64"
      ]
     },
     "execution_count": 131,
     "metadata": {},
     "output_type": "execute_result"
    }
   ],
   "source": [
    "first_df[first_df['ND (Номер декларации)'] == '10013090/200721/0002862']['G33 (Код товара по ТН ВЭД)'].value_counts()"
   ]
  },
  {
   "cell_type": "code",
   "execution_count": 133,
   "id": "57a264c8",
   "metadata": {
    "scrolled": false
   },
   "outputs": [
    {
     "data": {
      "text/plain": [
       "24.02     1\n",
       "18.81     1\n",
       "165.4     1\n",
       "28.71     1\n",
       "29.7      1\n",
       "473.09    1\n",
       "10.56     1\n",
       "46.33     1\n",
       "40.52     1\n",
       "38.48     1\n",
       "19.91     1\n",
       "24.49     1\n",
       "136.36    1\n",
       "19.67     1\n",
       "26.14     1\n",
       "20.59     1\n",
       "194.7     1\n",
       "40.4      1\n",
       "61.58     1\n",
       "15.38     1\n",
       "14.85     1\n",
       "25.87     1\n",
       "187.84    1\n",
       "59.07     1\n",
       "Name: G42 (Фактурная стоимость), dtype: int64"
      ]
     },
     "execution_count": 133,
     "metadata": {},
     "output_type": "execute_result"
    }
   ],
   "source": [
    "first_df[(first_df['ND (Номер декларации)'] == '10013090/200721/0002862') & (first_df['G33 (Код товара по ТН ВЭД)'] == '2930909509')]['G42 (Фактурная стоимость)'].value_counts()"
   ]
  },
  {
   "cell_type": "code",
   "execution_count": 142,
   "id": "d86c4cad",
   "metadata": {},
   "outputs": [
    {
     "data": {
      "text/plain": [
       "9.79    1\n",
       "0.03    1\n",
       "0.1     1\n",
       "0.16    1\n",
       "0.12    1\n",
       "Name: G35 (Вес брутто, кг), dtype: int64"
      ]
     },
     "execution_count": 142,
     "metadata": {},
     "output_type": "execute_result"
    }
   ],
   "source": [
    "first_df[(first_df['ND (Номер декларации)'] == '10013090/200721/0002862') & (first_df['G33 (Код товара по ТН ВЭД)'] == '2901290000')]['G35 (Вес брутто, кг)'].value_counts()"
   ]
  },
  {
   "cell_type": "code",
   "execution_count": 143,
   "id": "bb7f8462",
   "metadata": {},
   "outputs": [
    {
     "data": {
      "text/plain": [
       "Int64Index([23676], dtype='int64')"
      ]
     },
     "execution_count": 143,
     "metadata": {},
     "output_type": "execute_result"
    }
   ],
   "source": [
    "first_df[(first_df['ND (Номер декларации)'] == '10013090/200721/0002862') & (first_df['G33 (Код товара по ТН ВЭД)'] == '2901290000') & (first_df['G35 (Вес брутто, кг)'] == '9.79')].index"
   ]
  },
  {
   "cell_type": "code",
   "execution_count": 144,
   "id": "d3e1c956",
   "metadata": {},
   "outputs": [
    {
     "data": {
      "text/plain": [
       "array(['657'], dtype=object)"
      ]
     },
     "execution_count": 144,
     "metadata": {},
     "output_type": "execute_result"
    }
   ],
   "source": [
    "first_df[first_df['ND (Номер декларации)'] == '10013090/200721/0002862']['G05 (Всего наименований товаров)'].unique()"
   ]
  },
  {
   "cell_type": "markdown",
   "id": "3d57adaa",
   "metadata": {},
   "source": [
    "## Column comparisons"
   ]
  },
  {
   "cell_type": "markdown",
   "id": "ed835ed9",
   "metadata": {},
   "source": [
    "### Sender country comparison"
   ]
  },
  {
   "cell_type": "code",
   "execution_count": 138,
   "id": "f5992322",
   "metadata": {},
   "outputs": [
    {
     "data": {
      "text/plain": [
       "304"
      ]
     },
     "execution_count": 138,
     "metadata": {},
     "output_type": "execute_result"
    }
   ],
   "source": [
    "sum(first_df['G0231 (Код страны отправителя)'] != first_df['G15A (Код страны отправления)'])"
   ]
  },
  {
   "cell_type": "code",
   "execution_count": 139,
   "id": "aaab9a48",
   "metadata": {},
   "outputs": [
    {
     "data": {
      "text/plain": [
       "(55, 39)"
      ]
     },
     "execution_count": 139,
     "metadata": {},
     "output_type": "execute_result"
    }
   ],
   "source": [
    "(sum(first_df['G0231 (Код страны отправителя)'].isna()), sum(first_df['G15A (Код страны отправления)'].isna()))"
   ]
  },
  {
   "cell_type": "code",
   "execution_count": 145,
   "id": "dfa456af",
   "metadata": {
    "scrolled": true
   },
   "outputs": [
    {
     "data": {
      "text/html": [
       "<div>\n",
       "<style scoped>\n",
       "    .dataframe tbody tr th:only-of-type {\n",
       "        vertical-align: middle;\n",
       "    }\n",
       "\n",
       "    .dataframe tbody tr th {\n",
       "        vertical-align: top;\n",
       "    }\n",
       "\n",
       "    .dataframe thead th {\n",
       "        text-align: right;\n",
       "    }\n",
       "</style>\n",
       "<table border=\"1\" class=\"dataframe\">\n",
       "  <thead>\n",
       "    <tr style=\"text-align: right;\">\n",
       "      <th></th>\n",
       "      <th>Unnamed: 0</th>\n",
       "      <th>G0231 (Код страны отправителя)</th>\n",
       "      <th>G15A (Код страны отправления)</th>\n",
       "    </tr>\n",
       "  </thead>\n",
       "  <tbody>\n",
       "    <tr>\n",
       "      <th>26402</th>\n",
       "      <td>45544</td>\n",
       "      <td>CH</td>\n",
       "      <td>NL</td>\n",
       "    </tr>\n",
       "    <tr>\n",
       "      <th>26404</th>\n",
       "      <td>45546</td>\n",
       "      <td>CH</td>\n",
       "      <td>NL</td>\n",
       "    </tr>\n",
       "    <tr>\n",
       "      <th>26406</th>\n",
       "      <td>45548</td>\n",
       "      <td>AT</td>\n",
       "      <td>DE</td>\n",
       "    </tr>\n",
       "    <tr>\n",
       "      <th>26409</th>\n",
       "      <td>45551</td>\n",
       "      <td>DE</td>\n",
       "      <td>NL</td>\n",
       "    </tr>\n",
       "    <tr>\n",
       "      <th>26411</th>\n",
       "      <td>45553</td>\n",
       "      <td>CH</td>\n",
       "      <td>DE</td>\n",
       "    </tr>\n",
       "    <tr>\n",
       "      <th>26412</th>\n",
       "      <td>45554</td>\n",
       "      <td>CH</td>\n",
       "      <td>DE</td>\n",
       "    </tr>\n",
       "    <tr>\n",
       "      <th>26413</th>\n",
       "      <td>45555</td>\n",
       "      <td>EE</td>\n",
       "      <td>LT</td>\n",
       "    </tr>\n",
       "    <tr>\n",
       "      <th>26414</th>\n",
       "      <td>45556</td>\n",
       "      <td>CH</td>\n",
       "      <td>DE</td>\n",
       "    </tr>\n",
       "    <tr>\n",
       "      <th>26425</th>\n",
       "      <td>45567</td>\n",
       "      <td>CH</td>\n",
       "      <td>NL</td>\n",
       "    </tr>\n",
       "    <tr>\n",
       "      <th>26436</th>\n",
       "      <td>45578</td>\n",
       "      <td>GB</td>\n",
       "      <td>DK</td>\n",
       "    </tr>\n",
       "    <tr>\n",
       "      <th>26438</th>\n",
       "      <td>45580</td>\n",
       "      <td>GB</td>\n",
       "      <td>LT</td>\n",
       "    </tr>\n",
       "    <tr>\n",
       "      <th>26445</th>\n",
       "      <td>45587</td>\n",
       "      <td>CH</td>\n",
       "      <td>NL</td>\n",
       "    </tr>\n",
       "    <tr>\n",
       "      <th>26463</th>\n",
       "      <td>45605</td>\n",
       "      <td>FR</td>\n",
       "      <td>PL</td>\n",
       "    </tr>\n",
       "    <tr>\n",
       "      <th>26477</th>\n",
       "      <td>45619</td>\n",
       "      <td>CH</td>\n",
       "      <td>NL</td>\n",
       "    </tr>\n",
       "    <tr>\n",
       "      <th>26478</th>\n",
       "      <td>45620</td>\n",
       "      <td>CH</td>\n",
       "      <td>NL</td>\n",
       "    </tr>\n",
       "    <tr>\n",
       "      <th>26479</th>\n",
       "      <td>45621</td>\n",
       "      <td>CH</td>\n",
       "      <td>NL</td>\n",
       "    </tr>\n",
       "    <tr>\n",
       "      <th>26500</th>\n",
       "      <td>45642</td>\n",
       "      <td>NaN</td>\n",
       "      <td>DE</td>\n",
       "    </tr>\n",
       "    <tr>\n",
       "      <th>26513</th>\n",
       "      <td>45655</td>\n",
       "      <td>NaN</td>\n",
       "      <td>PL</td>\n",
       "    </tr>\n",
       "    <tr>\n",
       "      <th>26521</th>\n",
       "      <td>45663</td>\n",
       "      <td>NaN</td>\n",
       "      <td>CN</td>\n",
       "    </tr>\n",
       "    <tr>\n",
       "      <th>26529</th>\n",
       "      <td>45671</td>\n",
       "      <td>NaN</td>\n",
       "      <td>CN</td>\n",
       "    </tr>\n",
       "    <tr>\n",
       "      <th>28304</th>\n",
       "      <td>47451</td>\n",
       "      <td>NaN</td>\n",
       "      <td>RU</td>\n",
       "    </tr>\n",
       "    <tr>\n",
       "      <th>34074</th>\n",
       "      <td>57927</td>\n",
       "      <td>NaN</td>\n",
       "      <td>NaN</td>\n",
       "    </tr>\n",
       "    <tr>\n",
       "      <th>35075</th>\n",
       "      <td>73423</td>\n",
       "      <td>NaN</td>\n",
       "      <td>DE</td>\n",
       "    </tr>\n",
       "    <tr>\n",
       "      <th>35076</th>\n",
       "      <td>73436</td>\n",
       "      <td>NaN</td>\n",
       "      <td>PL</td>\n",
       "    </tr>\n",
       "    <tr>\n",
       "      <th>35077</th>\n",
       "      <td>73444</td>\n",
       "      <td>NaN</td>\n",
       "      <td>CN</td>\n",
       "    </tr>\n",
       "    <tr>\n",
       "      <th>35078</th>\n",
       "      <td>73452</td>\n",
       "      <td>NaN</td>\n",
       "      <td>CN</td>\n",
       "    </tr>\n",
       "    <tr>\n",
       "      <th>35079</th>\n",
       "      <td>101204</td>\n",
       "      <td>NaN</td>\n",
       "      <td>DE</td>\n",
       "    </tr>\n",
       "    <tr>\n",
       "      <th>35080</th>\n",
       "      <td>101217</td>\n",
       "      <td>NaN</td>\n",
       "      <td>PL</td>\n",
       "    </tr>\n",
       "    <tr>\n",
       "      <th>35081</th>\n",
       "      <td>101225</td>\n",
       "      <td>NaN</td>\n",
       "      <td>CN</td>\n",
       "    </tr>\n",
       "    <tr>\n",
       "      <th>35082</th>\n",
       "      <td>101233</td>\n",
       "      <td>NaN</td>\n",
       "      <td>CN</td>\n",
       "    </tr>\n",
       "  </tbody>\n",
       "</table>\n",
       "</div>"
      ],
      "text/plain": [
       "      Unnamed: 0 G0231 (Код страны отправителя) G15A (Код страны отправления)\n",
       "26402      45544                             CH                            NL\n",
       "26404      45546                             CH                            NL\n",
       "26406      45548                             AT                            DE\n",
       "26409      45551                             DE                            NL\n",
       "26411      45553                             CH                            DE\n",
       "26412      45554                             CH                            DE\n",
       "26413      45555                             EE                            LT\n",
       "26414      45556                             CH                            DE\n",
       "26425      45567                             CH                            NL\n",
       "26436      45578                             GB                            DK\n",
       "26438      45580                             GB                            LT\n",
       "26445      45587                             CH                            NL\n",
       "26463      45605                             FR                            PL\n",
       "26477      45619                             CH                            NL\n",
       "26478      45620                             CH                            NL\n",
       "26479      45621                             CH                            NL\n",
       "26500      45642                            NaN                            DE\n",
       "26513      45655                            NaN                            PL\n",
       "26521      45663                            NaN                            CN\n",
       "26529      45671                            NaN                            CN\n",
       "28304      47451                            NaN                            RU\n",
       "34074      57927                            NaN                           NaN\n",
       "35075      73423                            NaN                            DE\n",
       "35076      73436                            NaN                            PL\n",
       "35077      73444                            NaN                            CN\n",
       "35078      73452                            NaN                            CN\n",
       "35079     101204                            NaN                            DE\n",
       "35080     101217                            NaN                            PL\n",
       "35081     101225                            NaN                            CN\n",
       "35082     101233                            NaN                            CN"
      ]
     },
     "execution_count": 145,
     "metadata": {},
     "output_type": "execute_result"
    }
   ],
   "source": [
    "first_df[first_df['G0231 (Код страны отправителя)'] != first_df['G15A (Код страны отправления)']].loc[:, ['Unnamed: 0', 'G0231 (Код страны отправителя)', 'G15A (Код страны отправления)']].tail(30)"
   ]
  },
  {
   "cell_type": "markdown",
   "id": "d15bdd5b",
   "metadata": {},
   "source": [
    "### Quntity of cargo units comparison"
   ]
  },
  {
   "cell_type": "code",
   "execution_count": 146,
   "id": "4e418405",
   "metadata": {},
   "outputs": [
    {
     "data": {
      "text/plain": [
       "12778"
      ]
     },
     "execution_count": 146,
     "metadata": {},
     "output_type": "execute_result"
    }
   ],
   "source": [
    "sum(first_df['G06 (Кол-во мест)'] != first_df['G31_2 (Кол-во грузовых мест)'])"
   ]
  },
  {
   "cell_type": "code",
   "execution_count": 147,
   "id": "6749e44e",
   "metadata": {},
   "outputs": [
    {
     "data": {
      "text/plain": [
       "(8184, 12)"
      ]
     },
     "execution_count": 147,
     "metadata": {},
     "output_type": "execute_result"
    }
   ],
   "source": [
    "(sum(first_df['G06 (Кол-во мест)'] == \"0\"), sum(first_df['G06 (Кол-во мест)'].isna()))"
   ]
  },
  {
   "cell_type": "code",
   "execution_count": 148,
   "id": "70f9e872",
   "metadata": {},
   "outputs": [
    {
     "data": {
      "text/plain": [
       "(8209, 12)"
      ]
     },
     "execution_count": 148,
     "metadata": {},
     "output_type": "execute_result"
    }
   ],
   "source": [
    "(sum(first_df['G31_2 (Кол-во грузовых мест)'] == \"0\"), sum(first_df['G31_2 (Кол-во грузовых мест)'].isna()))"
   ]
  },
  {
   "cell_type": "code",
   "execution_count": 149,
   "id": "e95ae6d4",
   "metadata": {},
   "outputs": [
    {
     "data": {
      "text/html": [
       "<div>\n",
       "<style scoped>\n",
       "    .dataframe tbody tr th:only-of-type {\n",
       "        vertical-align: middle;\n",
       "    }\n",
       "\n",
       "    .dataframe tbody tr th {\n",
       "        vertical-align: top;\n",
       "    }\n",
       "\n",
       "    .dataframe thead th {\n",
       "        text-align: right;\n",
       "    }\n",
       "</style>\n",
       "<table border=\"1\" class=\"dataframe\">\n",
       "  <thead>\n",
       "    <tr style=\"text-align: right;\">\n",
       "      <th></th>\n",
       "      <th>G06 (Кол-во мест)</th>\n",
       "      <th>G31_2 (Кол-во грузовых мест)</th>\n",
       "    </tr>\n",
       "  </thead>\n",
       "  <tbody>\n",
       "    <tr>\n",
       "      <th>9</th>\n",
       "      <td>8</td>\n",
       "      <td>1</td>\n",
       "    </tr>\n",
       "    <tr>\n",
       "      <th>23</th>\n",
       "      <td>7</td>\n",
       "      <td>1</td>\n",
       "    </tr>\n",
       "    <tr>\n",
       "      <th>28</th>\n",
       "      <td>2</td>\n",
       "      <td>1</td>\n",
       "    </tr>\n",
       "    <tr>\n",
       "      <th>33</th>\n",
       "      <td>55</td>\n",
       "      <td>1</td>\n",
       "    </tr>\n",
       "    <tr>\n",
       "      <th>37</th>\n",
       "      <td>21</td>\n",
       "      <td>2</td>\n",
       "    </tr>\n",
       "  </tbody>\n",
       "</table>\n",
       "</div>"
      ],
      "text/plain": [
       "   G06 (Кол-во мест) G31_2 (Кол-во грузовых мест)\n",
       "9                  8                            1\n",
       "23                 7                            1\n",
       "28                 2                            1\n",
       "33                55                            1\n",
       "37                21                            2"
      ]
     },
     "execution_count": 149,
     "metadata": {},
     "output_type": "execute_result"
    }
   ],
   "source": [
    "first_df[first_df['G06 (Кол-во мест)'] != first_df['G31_2 (Кол-во грузовых мест)']].loc[:, ['G06 (Кол-во мест)', 'G31_2 (Кол-во грузовых мест)']].head(5)"
   ]
  },
  {
   "cell_type": "markdown",
   "id": "4e3d21ea",
   "metadata": {},
   "source": [
    "That's likely simply different values – need to collect both"
   ]
  },
  {
   "cell_type": "markdown",
   "id": "d5265934",
   "metadata": {},
   "source": [
    "### Receiver country codes comparison"
   ]
  },
  {
   "cell_type": "code",
   "execution_count": 150,
   "id": "93314f10",
   "metadata": {},
   "outputs": [
    {
     "data": {
      "text/plain": [
       "42"
      ]
     },
     "execution_count": 150,
     "metadata": {},
     "output_type": "execute_result"
    }
   ],
   "source": [
    "sum(first_df['G0831 (Код страны получателя)'] != first_df['G17A (Код страны назначения)'])"
   ]
  },
  {
   "cell_type": "code",
   "execution_count": 151,
   "id": "4814078c",
   "metadata": {},
   "outputs": [
    {
     "data": {
      "text/plain": [
       "(40, 0)"
      ]
     },
     "execution_count": 151,
     "metadata": {},
     "output_type": "execute_result"
    }
   ],
   "source": [
    "(sum(first_df['G0831 (Код страны получателя)'].isna()), sum(first_df['G17A (Код страны назначения)'].isna()))"
   ]
  },
  {
   "cell_type": "code",
   "execution_count": 153,
   "id": "daea1666",
   "metadata": {
    "scrolled": true
   },
   "outputs": [
    {
     "data": {
      "text/html": [
       "<div>\n",
       "<style scoped>\n",
       "    .dataframe tbody tr th:only-of-type {\n",
       "        vertical-align: middle;\n",
       "    }\n",
       "\n",
       "    .dataframe tbody tr th {\n",
       "        vertical-align: top;\n",
       "    }\n",
       "\n",
       "    .dataframe thead th {\n",
       "        text-align: right;\n",
       "    }\n",
       "</style>\n",
       "<table border=\"1\" class=\"dataframe\">\n",
       "  <thead>\n",
       "    <tr style=\"text-align: right;\">\n",
       "      <th></th>\n",
       "      <th>G0831 (Код страны получателя)</th>\n",
       "      <th>G17A (Код страны назначения)</th>\n",
       "    </tr>\n",
       "  </thead>\n",
       "  <tbody>\n",
       "    <tr>\n",
       "      <th>26157</th>\n",
       "      <td>GB</td>\n",
       "      <td>LT</td>\n",
       "    </tr>\n",
       "    <tr>\n",
       "      <th>26340</th>\n",
       "      <td>GB</td>\n",
       "      <td>LT</td>\n",
       "    </tr>\n",
       "    <tr>\n",
       "      <th>28051</th>\n",
       "      <td>NaN</td>\n",
       "      <td>LU</td>\n",
       "    </tr>\n",
       "    <tr>\n",
       "      <th>28088</th>\n",
       "      <td>NaN</td>\n",
       "      <td>DE</td>\n",
       "    </tr>\n",
       "    <tr>\n",
       "      <th>28089</th>\n",
       "      <td>NaN</td>\n",
       "      <td>DE</td>\n",
       "    </tr>\n",
       "    <tr>\n",
       "      <th>28090</th>\n",
       "      <td>NaN</td>\n",
       "      <td>BY</td>\n",
       "    </tr>\n",
       "    <tr>\n",
       "      <th>28095</th>\n",
       "      <td>NaN</td>\n",
       "      <td>BY</td>\n",
       "    </tr>\n",
       "    <tr>\n",
       "      <th>28100</th>\n",
       "      <td>NaN</td>\n",
       "      <td>LU</td>\n",
       "    </tr>\n",
       "    <tr>\n",
       "      <th>28103</th>\n",
       "      <td>NaN</td>\n",
       "      <td>UA</td>\n",
       "    </tr>\n",
       "    <tr>\n",
       "      <th>28107</th>\n",
       "      <td>NaN</td>\n",
       "      <td>US</td>\n",
       "    </tr>\n",
       "    <tr>\n",
       "      <th>28109</th>\n",
       "      <td>NaN</td>\n",
       "      <td>UA</td>\n",
       "    </tr>\n",
       "    <tr>\n",
       "      <th>28121</th>\n",
       "      <td>NaN</td>\n",
       "      <td>BY</td>\n",
       "    </tr>\n",
       "    <tr>\n",
       "      <th>28125</th>\n",
       "      <td>NaN</td>\n",
       "      <td>UZ</td>\n",
       "    </tr>\n",
       "    <tr>\n",
       "      <th>28126</th>\n",
       "      <td>NaN</td>\n",
       "      <td>FR</td>\n",
       "    </tr>\n",
       "    <tr>\n",
       "      <th>28144</th>\n",
       "      <td>NaN</td>\n",
       "      <td>UA</td>\n",
       "    </tr>\n",
       "    <tr>\n",
       "      <th>28145</th>\n",
       "      <td>NaN</td>\n",
       "      <td>JP</td>\n",
       "    </tr>\n",
       "    <tr>\n",
       "      <th>28148</th>\n",
       "      <td>NaN</td>\n",
       "      <td>CN</td>\n",
       "    </tr>\n",
       "    <tr>\n",
       "      <th>28152</th>\n",
       "      <td>NaN</td>\n",
       "      <td>BY</td>\n",
       "    </tr>\n",
       "    <tr>\n",
       "      <th>28156</th>\n",
       "      <td>NaN</td>\n",
       "      <td>GE</td>\n",
       "    </tr>\n",
       "    <tr>\n",
       "      <th>28166</th>\n",
       "      <td>NaN</td>\n",
       "      <td>BY</td>\n",
       "    </tr>\n",
       "    <tr>\n",
       "      <th>28167</th>\n",
       "      <td>NaN</td>\n",
       "      <td>AZ</td>\n",
       "    </tr>\n",
       "    <tr>\n",
       "      <th>28172</th>\n",
       "      <td>NaN</td>\n",
       "      <td>FI</td>\n",
       "    </tr>\n",
       "    <tr>\n",
       "      <th>28173</th>\n",
       "      <td>NaN</td>\n",
       "      <td>BY</td>\n",
       "    </tr>\n",
       "    <tr>\n",
       "      <th>28174</th>\n",
       "      <td>NaN</td>\n",
       "      <td>SJ</td>\n",
       "    </tr>\n",
       "    <tr>\n",
       "      <th>28187</th>\n",
       "      <td>NaN</td>\n",
       "      <td>SJ</td>\n",
       "    </tr>\n",
       "    <tr>\n",
       "      <th>28192</th>\n",
       "      <td>NaN</td>\n",
       "      <td>UA</td>\n",
       "    </tr>\n",
       "    <tr>\n",
       "      <th>28197</th>\n",
       "      <td>NaN</td>\n",
       "      <td>UA</td>\n",
       "    </tr>\n",
       "    <tr>\n",
       "      <th>28200</th>\n",
       "      <td>NaN</td>\n",
       "      <td>UZ</td>\n",
       "    </tr>\n",
       "    <tr>\n",
       "      <th>28201</th>\n",
       "      <td>NaN</td>\n",
       "      <td>UA</td>\n",
       "    </tr>\n",
       "    <tr>\n",
       "      <th>28208</th>\n",
       "      <td>NaN</td>\n",
       "      <td>US</td>\n",
       "    </tr>\n",
       "    <tr>\n",
       "      <th>28213</th>\n",
       "      <td>NaN</td>\n",
       "      <td>UA</td>\n",
       "    </tr>\n",
       "    <tr>\n",
       "      <th>28290</th>\n",
       "      <td>NaN</td>\n",
       "      <td>RU</td>\n",
       "    </tr>\n",
       "    <tr>\n",
       "      <th>28291</th>\n",
       "      <td>NaN</td>\n",
       "      <td>AB</td>\n",
       "    </tr>\n",
       "    <tr>\n",
       "      <th>28388</th>\n",
       "      <td>NaN</td>\n",
       "      <td>RU</td>\n",
       "    </tr>\n",
       "    <tr>\n",
       "      <th>28399</th>\n",
       "      <td>NaN</td>\n",
       "      <td>RU</td>\n",
       "    </tr>\n",
       "    <tr>\n",
       "      <th>28404</th>\n",
       "      <td>NaN</td>\n",
       "      <td>RU</td>\n",
       "    </tr>\n",
       "    <tr>\n",
       "      <th>28410</th>\n",
       "      <td>NaN</td>\n",
       "      <td>RU</td>\n",
       "    </tr>\n",
       "    <tr>\n",
       "      <th>28411</th>\n",
       "      <td>NaN</td>\n",
       "      <td>RU</td>\n",
       "    </tr>\n",
       "    <tr>\n",
       "      <th>28413</th>\n",
       "      <td>NaN</td>\n",
       "      <td>RU</td>\n",
       "    </tr>\n",
       "    <tr>\n",
       "      <th>28426</th>\n",
       "      <td>NaN</td>\n",
       "      <td>RU</td>\n",
       "    </tr>\n",
       "    <tr>\n",
       "      <th>28470</th>\n",
       "      <td>NaN</td>\n",
       "      <td>AB</td>\n",
       "    </tr>\n",
       "    <tr>\n",
       "      <th>28478</th>\n",
       "      <td>NaN</td>\n",
       "      <td>RU</td>\n",
       "    </tr>\n",
       "  </tbody>\n",
       "</table>\n",
       "</div>"
      ],
      "text/plain": [
       "      G0831 (Код страны получателя) G17A (Код страны назначения)\n",
       "26157                            GB                           LT\n",
       "26340                            GB                           LT\n",
       "28051                           NaN                           LU\n",
       "28088                           NaN                           DE\n",
       "28089                           NaN                           DE\n",
       "28090                           NaN                           BY\n",
       "28095                           NaN                           BY\n",
       "28100                           NaN                           LU\n",
       "28103                           NaN                           UA\n",
       "28107                           NaN                           US\n",
       "28109                           NaN                           UA\n",
       "28121                           NaN                           BY\n",
       "28125                           NaN                           UZ\n",
       "28126                           NaN                           FR\n",
       "28144                           NaN                           UA\n",
       "28145                           NaN                           JP\n",
       "28148                           NaN                           CN\n",
       "28152                           NaN                           BY\n",
       "28156                           NaN                           GE\n",
       "28166                           NaN                           BY\n",
       "28167                           NaN                           AZ\n",
       "28172                           NaN                           FI\n",
       "28173                           NaN                           BY\n",
       "28174                           NaN                           SJ\n",
       "28187                           NaN                           SJ\n",
       "28192                           NaN                           UA\n",
       "28197                           NaN                           UA\n",
       "28200                           NaN                           UZ\n",
       "28201                           NaN                           UA\n",
       "28208                           NaN                           US\n",
       "28213                           NaN                           UA\n",
       "28290                           NaN                           RU\n",
       "28291                           NaN                           AB\n",
       "28388                           NaN                           RU\n",
       "28399                           NaN                           RU\n",
       "28404                           NaN                           RU\n",
       "28410                           NaN                           RU\n",
       "28411                           NaN                           RU\n",
       "28413                           NaN                           RU\n",
       "28426                           NaN                           RU\n",
       "28470                           NaN                           AB\n",
       "28478                           NaN                           RU"
      ]
     },
     "execution_count": 153,
     "metadata": {},
     "output_type": "execute_result"
    }
   ],
   "source": [
    "first_df[first_df['G0831 (Код страны получателя)'] != first_df['G17A (Код страны назначения)']].loc[:, ['G0831 (Код страны получателя)', 'G17A (Код страны назначения)']].head(42)"
   ]
  },
  {
   "cell_type": "markdown",
   "id": "d06fc8a7",
   "metadata": {},
   "source": [
    "### Customs costs comparison"
   ]
  },
  {
   "cell_type": "code",
   "execution_count": 154,
   "id": "d3bceabe",
   "metadata": {},
   "outputs": [
    {
     "data": {
      "text/plain": [
       "12923"
      ]
     },
     "execution_count": 154,
     "metadata": {},
     "output_type": "execute_result"
    }
   ],
   "source": [
    "sum(first_df[ 'G12 (Общая таможенная стоимость по ГТД)'] != first_df[ 'G45 (Таможенная стоимость)'])"
   ]
  },
  {
   "cell_type": "code",
   "execution_count": 155,
   "id": "19bd935a",
   "metadata": {},
   "outputs": [
    {
     "data": {
      "text/plain": [
       "(12, 0)"
      ]
     },
     "execution_count": 155,
     "metadata": {},
     "output_type": "execute_result"
    }
   ],
   "source": [
    "(sum(first_df['G12 (Общая таможенная стоимость по ГТД)'].isna()), sum(first_df['G45 (Таможенная стоимость)'].isna()))"
   ]
  },
  {
   "cell_type": "code",
   "execution_count": 156,
   "id": "b0e20cee",
   "metadata": {},
   "outputs": [
    {
     "data": {
      "text/plain": [
       "(6597, 6606)"
      ]
     },
     "execution_count": 156,
     "metadata": {},
     "output_type": "execute_result"
    }
   ],
   "source": [
    "(sum(first_df['G12 (Общая таможенная стоимость по ГТД)'] == '0'), sum(first_df['G45 (Таможенная стоимость)'] == '0'))"
   ]
  },
  {
   "cell_type": "code",
   "execution_count": 157,
   "id": "3645ec9b",
   "metadata": {},
   "outputs": [
    {
     "data": {
      "text/html": [
       "<div>\n",
       "<style scoped>\n",
       "    .dataframe tbody tr th:only-of-type {\n",
       "        vertical-align: middle;\n",
       "    }\n",
       "\n",
       "    .dataframe tbody tr th {\n",
       "        vertical-align: top;\n",
       "    }\n",
       "\n",
       "    .dataframe thead th {\n",
       "        text-align: right;\n",
       "    }\n",
       "</style>\n",
       "<table border=\"1\" class=\"dataframe\">\n",
       "  <thead>\n",
       "    <tr style=\"text-align: right;\">\n",
       "      <th></th>\n",
       "      <th>G12 (Общая таможенная стоимость по ГТД)</th>\n",
       "      <th>G45 (Таможенная стоимость)</th>\n",
       "    </tr>\n",
       "  </thead>\n",
       "  <tbody>\n",
       "    <tr>\n",
       "      <th>9</th>\n",
       "      <td>610791.91</td>\n",
       "      <td>46665.97</td>\n",
       "    </tr>\n",
       "    <tr>\n",
       "      <th>23</th>\n",
       "      <td>1557179.24</td>\n",
       "      <td>86174.59</td>\n",
       "    </tr>\n",
       "    <tr>\n",
       "      <th>28</th>\n",
       "      <td>1824107.26</td>\n",
       "      <td>2976.53</td>\n",
       "    </tr>\n",
       "    <tr>\n",
       "      <th>33</th>\n",
       "      <td>498583.65</td>\n",
       "      <td>2589.21</td>\n",
       "    </tr>\n",
       "    <tr>\n",
       "      <th>37</th>\n",
       "      <td>5387587.75</td>\n",
       "      <td>400518.86</td>\n",
       "    </tr>\n",
       "  </tbody>\n",
       "</table>\n",
       "</div>"
      ],
      "text/plain": [
       "   G12 (Общая таможенная стоимость по ГТД) G45 (Таможенная стоимость)\n",
       "9                                610791.91                   46665.97\n",
       "23                              1557179.24                   86174.59\n",
       "28                              1824107.26                    2976.53\n",
       "33                               498583.65                    2589.21\n",
       "37                              5387587.75                  400518.86"
      ]
     },
     "execution_count": 157,
     "metadata": {},
     "output_type": "execute_result"
    }
   ],
   "source": [
    "first_df[first_df['G12 (Общая таможенная стоимость по ГТД)'] != first_df['G45 (Таможенная стоимость)']].loc[:, ['G12 (Общая таможенная стоимость по ГТД)', 'G45 (Таможенная стоимость)']].head(5)"
   ]
  },
  {
   "cell_type": "markdown",
   "id": "7544ecd4",
   "metadata": {},
   "source": [
    "This parameters are different. Trouble with zero exists"
   ]
  },
  {
   "cell_type": "markdown",
   "id": "f787175b",
   "metadata": {},
   "source": [
    "### Country of product origin"
   ]
  },
  {
   "cell_type": "code",
   "execution_count": 181,
   "id": "7fc18c86",
   "metadata": {},
   "outputs": [
    {
     "data": {
      "text/plain": [
       "10016"
      ]
     },
     "execution_count": 181,
     "metadata": {},
     "output_type": "execute_result"
    }
   ],
   "source": [
    "sum(first_df['G16 (Страна происхождения)'] != first_df['G31_13 (Страна происхождения)'])"
   ]
  },
  {
   "cell_type": "code",
   "execution_count": 159,
   "id": "2857cfc6",
   "metadata": {},
   "outputs": [
    {
     "data": {
      "text/plain": [
       "(0, 71)"
      ]
     },
     "execution_count": 159,
     "metadata": {},
     "output_type": "execute_result"
    }
   ],
   "source": [
    "(sum(first_df['G16 (Страна происхождения)'].isna()), sum(first_df['G31_13 (Страна происхождения)'].isna()))"
   ]
  },
  {
   "cell_type": "code",
   "execution_count": 160,
   "id": "ce74587d",
   "metadata": {},
   "outputs": [
    {
     "data": {
      "text/html": [
       "<div>\n",
       "<style scoped>\n",
       "    .dataframe tbody tr th:only-of-type {\n",
       "        vertical-align: middle;\n",
       "    }\n",
       "\n",
       "    .dataframe tbody tr th {\n",
       "        vertical-align: top;\n",
       "    }\n",
       "\n",
       "    .dataframe thead th {\n",
       "        text-align: right;\n",
       "    }\n",
       "</style>\n",
       "<table border=\"1\" class=\"dataframe\">\n",
       "  <thead>\n",
       "    <tr style=\"text-align: right;\">\n",
       "      <th></th>\n",
       "      <th>G16 (Страна происхождения)</th>\n",
       "      <th>G31_13 (Страна происхождения)</th>\n",
       "    </tr>\n",
       "  </thead>\n",
       "  <tbody>\n",
       "    <tr>\n",
       "      <th>35078</th>\n",
       "      <td>КИТАЙ</td>\n",
       "      <td>Китай</td>\n",
       "    </tr>\n",
       "    <tr>\n",
       "      <th>35079</th>\n",
       "      <td>ГЕРМАНИЯ</td>\n",
       "      <td>Германия</td>\n",
       "    </tr>\n",
       "    <tr>\n",
       "      <th>35080</th>\n",
       "      <td>ГЕРМАНИЯ</td>\n",
       "      <td>Германия</td>\n",
       "    </tr>\n",
       "    <tr>\n",
       "      <th>35081</th>\n",
       "      <td>КИТАЙ</td>\n",
       "      <td>Китай</td>\n",
       "    </tr>\n",
       "    <tr>\n",
       "      <th>35082</th>\n",
       "      <td>КИТАЙ</td>\n",
       "      <td>Китай</td>\n",
       "    </tr>\n",
       "  </tbody>\n",
       "</table>\n",
       "</div>"
      ],
      "text/plain": [
       "      G16 (Страна происхождения) G31_13 (Страна происхождения)\n",
       "35078                      КИТАЙ                         Китай\n",
       "35079                   ГЕРМАНИЯ                      Германия\n",
       "35080                   ГЕРМАНИЯ                      Германия\n",
       "35081                      КИТАЙ                         Китай\n",
       "35082                      КИТАЙ                         Китай"
      ]
     },
     "execution_count": 160,
     "metadata": {},
     "output_type": "execute_result"
    }
   ],
   "source": [
    "first_df[first_df['G16 (Страна происхождения)'] != first_df['G31_13 (Страна происхождения)']].loc[:, ['G16 (Страна происхождения)', 'G31_13 (Страна происхождения)']].tail(5)"
   ]
  },
  {
   "cell_type": "code",
   "execution_count": 180,
   "id": "51a41942",
   "metadata": {},
   "outputs": [
    {
     "data": {
      "text/plain": [
       "9590"
      ]
     },
     "execution_count": 180,
     "metadata": {},
     "output_type": "execute_result"
    }
   ],
   "source": [
    "sum((first_df['G16 (Страна происхождения)'] == 'РАЗНЫЕ') | (first_df['G16 (Страна происхождения)'] == 'НЕИЗВЕСТНА'))"
   ]
  },
  {
   "cell_type": "code",
   "execution_count": 178,
   "id": "b32f9f17",
   "metadata": {
    "scrolled": true
   },
   "outputs": [
    {
     "data": {
      "text/plain": [
       "array(['НЕИЗВЕСТНА', 'РАЗНЫЕ'], dtype=object)"
      ]
     },
     "execution_count": 178,
     "metadata": {},
     "output_type": "execute_result"
    }
   ],
   "source": [
    "first_df[first_df['G31_13 (Страна происхождения)'].isna()]['G16 (Страна происхождения)'].unique()"
   ]
  },
  {
   "cell_type": "markdown",
   "id": "2ab80384",
   "metadata": {},
   "source": [
    "Difference is conditioned by value \"РАЗНЫЕ\" in G16. G3113 is preferable"
   ]
  },
  {
   "cell_type": "markdown",
   "id": "d51b233a",
   "metadata": {},
   "source": [
    "### Currency costs comparison"
   ]
  },
  {
   "cell_type": "code",
   "execution_count": 162,
   "id": "4705f144",
   "metadata": {},
   "outputs": [
    {
     "data": {
      "text/plain": [
       "14323"
      ]
     },
     "execution_count": 162,
     "metadata": {},
     "output_type": "execute_result"
    }
   ],
   "source": [
    "sum(first_df['G222 (Общая фактурная стоимость по ГТД)'] != first_df['G42 (Фактурная стоимость)'])"
   ]
  },
  {
   "cell_type": "code",
   "execution_count": 163,
   "id": "87a61e49",
   "metadata": {},
   "outputs": [
    {
     "data": {
      "text/plain": [
       "(12, 12)"
      ]
     },
     "execution_count": 163,
     "metadata": {},
     "output_type": "execute_result"
    }
   ],
   "source": [
    "(sum(first_df['G222 (Общая фактурная стоимость по ГТД)'].isna()), sum(first_df['G42 (Фактурная стоимость)'].isna()))"
   ]
  },
  {
   "cell_type": "code",
   "execution_count": 164,
   "id": "a3710baa",
   "metadata": {},
   "outputs": [
    {
     "data": {
      "text/plain": [
       "(534, 536)"
      ]
     },
     "execution_count": 164,
     "metadata": {},
     "output_type": "execute_result"
    }
   ],
   "source": [
    "(sum(first_df['G222 (Общая фактурная стоимость по ГТД)'] == '0'), sum(first_df['G42 (Фактурная стоимость)'] == '0'))"
   ]
  },
  {
   "cell_type": "code",
   "execution_count": 165,
   "id": "c6ceea7f",
   "metadata": {},
   "outputs": [
    {
     "data": {
      "text/html": [
       "<div>\n",
       "<style scoped>\n",
       "    .dataframe tbody tr th:only-of-type {\n",
       "        vertical-align: middle;\n",
       "    }\n",
       "\n",
       "    .dataframe tbody tr th {\n",
       "        vertical-align: top;\n",
       "    }\n",
       "\n",
       "    .dataframe thead th {\n",
       "        text-align: right;\n",
       "    }\n",
       "</style>\n",
       "<table border=\"1\" class=\"dataframe\">\n",
       "  <thead>\n",
       "    <tr style=\"text-align: right;\">\n",
       "      <th></th>\n",
       "      <th>G222 (Общая фактурная стоимость по ГТД)</th>\n",
       "      <th>G42 (Фактурная стоимость)</th>\n",
       "    </tr>\n",
       "  </thead>\n",
       "  <tbody>\n",
       "    <tr>\n",
       "      <th>9</th>\n",
       "      <td>6913.86</td>\n",
       "      <td>512.5</td>\n",
       "    </tr>\n",
       "    <tr>\n",
       "      <th>23</th>\n",
       "      <td>18616.92</td>\n",
       "      <td>1025</td>\n",
       "    </tr>\n",
       "    <tr>\n",
       "      <th>28</th>\n",
       "      <td>20505.31</td>\n",
       "      <td>33.46</td>\n",
       "    </tr>\n",
       "    <tr>\n",
       "      <th>33</th>\n",
       "      <td>5038.4</td>\n",
       "      <td>26.86</td>\n",
       "    </tr>\n",
       "    <tr>\n",
       "      <th>37</th>\n",
       "      <td>57037.91</td>\n",
       "      <td>4100</td>\n",
       "    </tr>\n",
       "  </tbody>\n",
       "</table>\n",
       "</div>"
      ],
      "text/plain": [
       "   G222 (Общая фактурная стоимость по ГТД) G42 (Фактурная стоимость)\n",
       "9                                  6913.86                     512.5\n",
       "23                                18616.92                      1025\n",
       "28                                20505.31                     33.46\n",
       "33                                  5038.4                     26.86\n",
       "37                                57037.91                      4100"
      ]
     },
     "execution_count": 165,
     "metadata": {},
     "output_type": "execute_result"
    }
   ],
   "source": [
    "first_df[first_df['G222 (Общая фактурная стоимость по ГТД)'] != first_df['G42 (Фактурная стоимость)']].loc[:, ['G222 (Общая фактурная стоимость по ГТД)', 'G42 (Фактурная стоимость)']].head(5)"
   ]
  },
  {
   "cell_type": "markdown",
   "id": "311f49d2",
   "metadata": {},
   "source": [
    "This parameters are different. Looks like G42 is the part of G222. Trouble with zero and NaN values also exists"
   ]
  },
  {
   "cell_type": "markdown",
   "id": "a074420b",
   "metadata": {},
   "source": [
    "## Test decimal columns"
   ]
  },
  {
   "cell_type": "markdown",
   "id": "051d7ffb",
   "metadata": {},
   "source": [
    "### Function tests that string is float"
   ]
  },
  {
   "cell_type": "code",
   "execution_count": 107,
   "id": "3dce842a",
   "metadata": {},
   "outputs": [],
   "source": [
    "def is_float(string):\n",
    "    try:\n",
    "        float(string)\n",
    "        return True\n",
    "    except ValueError:\n",
    "        return False"
   ]
  },
  {
   "cell_type": "markdown",
   "id": "4c19b5c0",
   "metadata": {},
   "source": [
    "### list of tested columns"
   ]
  },
  {
   "cell_type": "code",
   "execution_count": 167,
   "id": "e02a5b40",
   "metadata": {},
   "outputs": [],
   "source": [
    "decimal_columns = [\n",
    "    'G12 (Общая таможенная стоимость по ГТД)', 'USDKG (USD за КГ)', 'G05 (Всего наименований товаров)',\n",
    "    'G06 (Кол-во мест)', 'G12 (Общая таможенная стоимость по ГТД)', 'G222 (Общая фактурная стоимость по ГТД)',\n",
    "    'G23 (Курс валюты)', 'G31_2 (Кол-во грузовых мест)', 'G31_3 (Кол-во контейнеров)',  \n",
    "    'G31_7 (Кол-во товара в доп.ед.)', 'G31_8 (Кол-во товара во второй ед.изм.)', 'G35 (Вес брутто, кг)',\n",
    "    'G38 (Вес нетто, кг)', 'G39 (Квота)', 'G42 (Фактурная стоимость)', 'G42RUB (Фактурная стоимость в рублях)',\n",
    "    'G45 (Таможенная стоимость)', 'G46 (Статистическая стоимость, USD.)'\n",
    "]"
   ]
  },
  {
   "cell_type": "code",
   "execution_count": 168,
   "id": "1507f4c9",
   "metadata": {
    "scrolled": false
   },
   "outputs": [
    {
     "name": "stdout",
     "output_type": "stream",
     "text": [
      "35083\n",
      "35083\n",
      "35083\n",
      "35083\n",
      "35083\n",
      "35083\n",
      "35083\n",
      "35083\n",
      "35083\n",
      "35083\n",
      "35083\n",
      "35083\n",
      "35083\n",
      "35083\n",
      "35083\n",
      "35083\n",
      "35083\n",
      "35083\n"
     ]
    }
   ],
   "source": [
    "for col in decimal_columns:\n",
    "    print(sum([is_float(first_df[col].iloc[i]) for i in range(len(first_df.index))]))"
   ]
  },
  {
   "cell_type": "markdown",
   "id": "3e32c9aa",
   "metadata": {},
   "source": [
    "# Filter columns"
   ]
  },
  {
   "cell_type": "code",
   "execution_count": 172,
   "id": "b99a8db1",
   "metadata": {},
   "outputs": [
    {
     "data": {
      "text/plain": [
       "(35083, 81)"
      ]
     },
     "execution_count": 172,
     "metadata": {},
     "output_type": "execute_result"
    }
   ],
   "source": [
    "labels = [\n",
    "    'G032 (Кол-во ТД1/2 или ТД3/4)', 'G04 (общее кол-во листов спецификаций)', 'G281 (Банковские реквизиты)',\n",
    "    'G3010 (Тип документа)', 'G301 (Свидетельство СВХ)', 'G30 (Название станции/склада)', 'G30STREET (Улица склада)',\n",
    "    'G541 (Номер свидетельства брокера)', 'G541D (Дата свидетельства брокера)', 'G541_ADR (Адрес и контакты брокера)', \n",
    "    'G5411 (Номер договора брокера с декларантом)', 'G5411D (Дата договора брокера с декларантом)', \n",
    "    'GD2 (ЛНП долж.лица)'\n",
    "]\n",
    "first_df = first_df.drop(labels, axis=1)\n",
    "first_df = first_df.loc[:, :'FIRM (Доп.информация о контрактодержателе (Росстат))']\n",
    "first_df.shape"
   ]
  },
  {
   "cell_type": "code",
   "execution_count": 182,
   "id": "52a3e093",
   "metadata": {},
   "outputs": [
    {
     "data": {
      "text/plain": [
       "(35083, 80)"
      ]
     },
     "execution_count": 182,
     "metadata": {},
     "output_type": "execute_result"
    }
   ],
   "source": [
    "first_df = first_df.drop('G16 (Страна происхождения)', axis=1)\n",
    "first_df.shape"
   ]
  },
  {
   "cell_type": "markdown",
   "id": "0683be17",
   "metadata": {},
   "source": [
    "# Save Database to csv"
   ]
  },
  {
   "cell_type": "code",
   "execution_count": 183,
   "id": "3fff1d4e",
   "metadata": {},
   "outputs": [],
   "source": [
    "first_df.to_csv(dir + 'СustomsData.csv', sep=';')"
   ]
  }
 ],
 "metadata": {
  "kernelspec": {
   "display_name": "Python 3 (ipykernel)",
   "language": "python",
   "name": "python3"
  },
  "language_info": {
   "codemirror_mode": {
    "name": "ipython",
    "version": 3
   },
   "file_extension": ".py",
   "mimetype": "text/x-python",
   "name": "python",
   "nbconvert_exporter": "python",
   "pygments_lexer": "ipython3",
   "version": "3.8.8"
  }
 },
 "nbformat": 4,
 "nbformat_minor": 5
}
